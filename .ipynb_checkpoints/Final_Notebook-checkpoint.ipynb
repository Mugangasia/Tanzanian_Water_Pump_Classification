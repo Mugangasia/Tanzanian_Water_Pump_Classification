{
 "cells": [
  {
   "cell_type": "markdown",
   "metadata": {},
   "source": [
    "# Final Project Submission\n",
    "\n",
    "* Student name: THOMAS J WHIPPLE\n",
    "* Student pace: part time student\n",
    "* Scheduled project review date/time: FRIDAY, MARCH 20, 2020, 10:00am\n",
    "* Instructor name: ABHINEET KULKARNI\n",
    "* Blog post URL: https://medium.com/@mrtjwhipple/tanzanian-water-well-project-f8d6777ac9f9"
   ]
  },
  {
   "cell_type": "markdown",
   "metadata": {},
   "source": [
    "# The Data"
   ]
  },
  {
   "cell_type": "markdown",
   "metadata": {},
   "source": [
    "The data was shared through the DrivenData website and the Pump-It_Up competition. This is a supervised learning, ternary classification problem based on the status of Tanzanian water-points.  \n",
    "\n",
    "The focus of the project was to understand which wells, pumps, and water-points might fail or prove to be non-functional. This could help to improve maintenance operations and ensure that clean, potable water is available to the communities of Tanzania. Data was collected by the Tanzanian Ministry of Water and the Taarifa Platform.\n",
    "\n",
    "The dataset included 59,400 water-points which were labelled as “functioning”, “non-functioning”, or “functioning needs repair”. I decided to stick to the \"Pump It Up Competition\" rules and treated all the models as having these three classes.  The data was also broken up into three files - \"train_set_labels\", \"train_set_values\", and \"test_set_values\". The third of which I decided were only for submitting to the compettition and I would not include in my model."
   ]
  },
  {
   "cell_type": "markdown",
   "metadata": {},
   "source": [
    "## Loading the data and merging files"
   ]
  },
  {
   "cell_type": "code",
   "execution_count": 1,
   "metadata": {},
   "outputs": [],
   "source": [
    "# Import necessary libraries\n",
    "import numpy as np\n",
    "import pandas as pd\n",
    "import matplotlib.pyplot as plt\n",
    "%matplotlib inline\n",
    "import seaborn as sns\n",
    "import folium\n",
    "import datetime as dt\n",
    "\n",
    "from sklearn.model_selection import (train_test_split, \n",
    "                                     cross_val_score,\n",
    "                                    GridSearchCV)\n",
    "\n",
    "from sklearn.metrics import (accuracy_score, \n",
    "                            f1_score, \n",
    "                            confusion_matrix, \n",
    "                            classification_report,\n",
    "                            confusion_matrix)\n",
    "\n",
    "from sklearn.linear_model import LogisticRegression\n",
    "\n",
    "from sklearn.ensemble import RandomForestClassifier\n",
    "\n",
    "import xgboost as xgb"
   ]
  },
  {
   "cell_type": "markdown",
   "metadata": {},
   "source": [
    "### Labels"
   ]
  },
  {
   "cell_type": "code",
   "execution_count": 2,
   "metadata": {},
   "outputs": [],
   "source": [
    "# Load the target labels\n",
    "target = pd.read_csv(\"train_set_labels.csv\")"
   ]
  },
  {
   "cell_type": "code",
   "execution_count": 3,
   "metadata": {},
   "outputs": [
    {
     "data": {
      "text/html": [
       "<div>\n",
       "<style scoped>\n",
       "    .dataframe tbody tr th:only-of-type {\n",
       "        vertical-align: middle;\n",
       "    }\n",
       "\n",
       "    .dataframe tbody tr th {\n",
       "        vertical-align: top;\n",
       "    }\n",
       "\n",
       "    .dataframe thead th {\n",
       "        text-align: right;\n",
       "    }\n",
       "</style>\n",
       "<table border=\"1\" class=\"dataframe\">\n",
       "  <thead>\n",
       "    <tr style=\"text-align: right;\">\n",
       "      <th></th>\n",
       "      <th>id</th>\n",
       "      <th>status_group</th>\n",
       "    </tr>\n",
       "  </thead>\n",
       "  <tbody>\n",
       "    <tr>\n",
       "      <th>15</th>\n",
       "      <td>61848</td>\n",
       "      <td>functional</td>\n",
       "    </tr>\n",
       "    <tr>\n",
       "      <th>16</th>\n",
       "      <td>48451</td>\n",
       "      <td>non functional</td>\n",
       "    </tr>\n",
       "    <tr>\n",
       "      <th>17</th>\n",
       "      <td>58155</td>\n",
       "      <td>non functional</td>\n",
       "    </tr>\n",
       "    <tr>\n",
       "      <th>18</th>\n",
       "      <td>34169</td>\n",
       "      <td>functional needs repair</td>\n",
       "    </tr>\n",
       "    <tr>\n",
       "      <th>19</th>\n",
       "      <td>18274</td>\n",
       "      <td>functional</td>\n",
       "    </tr>\n",
       "  </tbody>\n",
       "</table>\n",
       "</div>"
      ],
      "text/plain": [
       "       id             status_group\n",
       "15  61848               functional\n",
       "16  48451           non functional\n",
       "17  58155           non functional\n",
       "18  34169  functional needs repair\n",
       "19  18274               functional"
      ]
     },
     "execution_count": 3,
     "metadata": {},
     "output_type": "execute_result"
    }
   ],
   "source": [
    "# Check out a few of the rows\n",
    "target.iloc[15:20]"
   ]
  },
  {
   "cell_type": "code",
   "execution_count": 4,
   "metadata": {},
   "outputs": [
    {
     "name": "stdout",
     "output_type": "stream",
     "text": [
      "(59400, 2)\n"
     ]
    }
   ],
   "source": [
    "# Replace target values - there are three classes\n",
    "target = target.replace({'status_group': {'functional' : 1, \n",
    "                                'non functional' : 0, \n",
    "                                'functional needs repair' : 2}})\n",
    "print(target.shape)"
   ]
  },
  {
   "cell_type": "code",
   "execution_count": 5,
   "metadata": {},
   "outputs": [
    {
     "data": {
      "text/html": [
       "<div>\n",
       "<style scoped>\n",
       "    .dataframe tbody tr th:only-of-type {\n",
       "        vertical-align: middle;\n",
       "    }\n",
       "\n",
       "    .dataframe tbody tr th {\n",
       "        vertical-align: top;\n",
       "    }\n",
       "\n",
       "    .dataframe thead th {\n",
       "        text-align: right;\n",
       "    }\n",
       "</style>\n",
       "<table border=\"1\" class=\"dataframe\">\n",
       "  <thead>\n",
       "    <tr style=\"text-align: right;\">\n",
       "      <th></th>\n",
       "      <th>id</th>\n",
       "      <th>status_group</th>\n",
       "    </tr>\n",
       "  </thead>\n",
       "  <tbody>\n",
       "    <tr>\n",
       "      <th>15</th>\n",
       "      <td>61848</td>\n",
       "      <td>1</td>\n",
       "    </tr>\n",
       "    <tr>\n",
       "      <th>16</th>\n",
       "      <td>48451</td>\n",
       "      <td>0</td>\n",
       "    </tr>\n",
       "    <tr>\n",
       "      <th>17</th>\n",
       "      <td>58155</td>\n",
       "      <td>0</td>\n",
       "    </tr>\n",
       "    <tr>\n",
       "      <th>18</th>\n",
       "      <td>34169</td>\n",
       "      <td>2</td>\n",
       "    </tr>\n",
       "    <tr>\n",
       "      <th>19</th>\n",
       "      <td>18274</td>\n",
       "      <td>1</td>\n",
       "    </tr>\n",
       "  </tbody>\n",
       "</table>\n",
       "</div>"
      ],
      "text/plain": [
       "       id  status_group\n",
       "15  61848             1\n",
       "16  48451             0\n",
       "17  58155             0\n",
       "18  34169             2\n",
       "19  18274             1"
      ]
     },
     "execution_count": 5,
     "metadata": {},
     "output_type": "execute_result"
    }
   ],
   "source": [
    "# Check to see that it worked\n",
    "target.iloc[15:20]"
   ]
  },
  {
   "cell_type": "markdown",
   "metadata": {},
   "source": [
    "### Values"
   ]
  },
  {
   "cell_type": "code",
   "execution_count": 6,
   "metadata": {},
   "outputs": [
    {
     "data": {
      "text/html": [
       "<div>\n",
       "<style scoped>\n",
       "    .dataframe tbody tr th:only-of-type {\n",
       "        vertical-align: middle;\n",
       "    }\n",
       "\n",
       "    .dataframe tbody tr th {\n",
       "        vertical-align: top;\n",
       "    }\n",
       "\n",
       "    .dataframe thead th {\n",
       "        text-align: right;\n",
       "    }\n",
       "</style>\n",
       "<table border=\"1\" class=\"dataframe\">\n",
       "  <thead>\n",
       "    <tr style=\"text-align: right;\">\n",
       "      <th></th>\n",
       "      <th>id</th>\n",
       "      <th>amount_tsh</th>\n",
       "      <th>date_recorded</th>\n",
       "      <th>funder</th>\n",
       "      <th>gps_height</th>\n",
       "      <th>installer</th>\n",
       "      <th>longitude</th>\n",
       "      <th>latitude</th>\n",
       "      <th>wpt_name</th>\n",
       "      <th>num_private</th>\n",
       "      <th>...</th>\n",
       "      <th>payment_type</th>\n",
       "      <th>water_quality</th>\n",
       "      <th>quality_group</th>\n",
       "      <th>quantity</th>\n",
       "      <th>quantity_group</th>\n",
       "      <th>source</th>\n",
       "      <th>source_type</th>\n",
       "      <th>source_class</th>\n",
       "      <th>waterpoint_type</th>\n",
       "      <th>waterpoint_type_group</th>\n",
       "    </tr>\n",
       "  </thead>\n",
       "  <tbody>\n",
       "    <tr>\n",
       "      <th>0</th>\n",
       "      <td>69572</td>\n",
       "      <td>6000.0</td>\n",
       "      <td>2011-03-14</td>\n",
       "      <td>Roman</td>\n",
       "      <td>1390</td>\n",
       "      <td>Roman</td>\n",
       "      <td>34.938093</td>\n",
       "      <td>-9.856322</td>\n",
       "      <td>none</td>\n",
       "      <td>0</td>\n",
       "      <td>...</td>\n",
       "      <td>annually</td>\n",
       "      <td>soft</td>\n",
       "      <td>good</td>\n",
       "      <td>enough</td>\n",
       "      <td>enough</td>\n",
       "      <td>spring</td>\n",
       "      <td>spring</td>\n",
       "      <td>groundwater</td>\n",
       "      <td>communal standpipe</td>\n",
       "      <td>communal standpipe</td>\n",
       "    </tr>\n",
       "    <tr>\n",
       "      <th>1</th>\n",
       "      <td>8776</td>\n",
       "      <td>0.0</td>\n",
       "      <td>2013-03-06</td>\n",
       "      <td>Grumeti</td>\n",
       "      <td>1399</td>\n",
       "      <td>GRUMETI</td>\n",
       "      <td>34.698766</td>\n",
       "      <td>-2.147466</td>\n",
       "      <td>Zahanati</td>\n",
       "      <td>0</td>\n",
       "      <td>...</td>\n",
       "      <td>never pay</td>\n",
       "      <td>soft</td>\n",
       "      <td>good</td>\n",
       "      <td>insufficient</td>\n",
       "      <td>insufficient</td>\n",
       "      <td>rainwater harvesting</td>\n",
       "      <td>rainwater harvesting</td>\n",
       "      <td>surface</td>\n",
       "      <td>communal standpipe</td>\n",
       "      <td>communal standpipe</td>\n",
       "    </tr>\n",
       "    <tr>\n",
       "      <th>2</th>\n",
       "      <td>34310</td>\n",
       "      <td>25.0</td>\n",
       "      <td>2013-02-25</td>\n",
       "      <td>Lottery Club</td>\n",
       "      <td>686</td>\n",
       "      <td>World vision</td>\n",
       "      <td>37.460664</td>\n",
       "      <td>-3.821329</td>\n",
       "      <td>Kwa Mahundi</td>\n",
       "      <td>0</td>\n",
       "      <td>...</td>\n",
       "      <td>per bucket</td>\n",
       "      <td>soft</td>\n",
       "      <td>good</td>\n",
       "      <td>enough</td>\n",
       "      <td>enough</td>\n",
       "      <td>dam</td>\n",
       "      <td>dam</td>\n",
       "      <td>surface</td>\n",
       "      <td>communal standpipe multiple</td>\n",
       "      <td>communal standpipe</td>\n",
       "    </tr>\n",
       "    <tr>\n",
       "      <th>3</th>\n",
       "      <td>67743</td>\n",
       "      <td>0.0</td>\n",
       "      <td>2013-01-28</td>\n",
       "      <td>Unicef</td>\n",
       "      <td>263</td>\n",
       "      <td>UNICEF</td>\n",
       "      <td>38.486161</td>\n",
       "      <td>-11.155298</td>\n",
       "      <td>Zahanati Ya Nanyumbu</td>\n",
       "      <td>0</td>\n",
       "      <td>...</td>\n",
       "      <td>never pay</td>\n",
       "      <td>soft</td>\n",
       "      <td>good</td>\n",
       "      <td>dry</td>\n",
       "      <td>dry</td>\n",
       "      <td>machine dbh</td>\n",
       "      <td>borehole</td>\n",
       "      <td>groundwater</td>\n",
       "      <td>communal standpipe multiple</td>\n",
       "      <td>communal standpipe</td>\n",
       "    </tr>\n",
       "    <tr>\n",
       "      <th>4</th>\n",
       "      <td>19728</td>\n",
       "      <td>0.0</td>\n",
       "      <td>2011-07-13</td>\n",
       "      <td>Action In A</td>\n",
       "      <td>0</td>\n",
       "      <td>Artisan</td>\n",
       "      <td>31.130847</td>\n",
       "      <td>-1.825359</td>\n",
       "      <td>Shuleni</td>\n",
       "      <td>0</td>\n",
       "      <td>...</td>\n",
       "      <td>never pay</td>\n",
       "      <td>soft</td>\n",
       "      <td>good</td>\n",
       "      <td>seasonal</td>\n",
       "      <td>seasonal</td>\n",
       "      <td>rainwater harvesting</td>\n",
       "      <td>rainwater harvesting</td>\n",
       "      <td>surface</td>\n",
       "      <td>communal standpipe</td>\n",
       "      <td>communal standpipe</td>\n",
       "    </tr>\n",
       "  </tbody>\n",
       "</table>\n",
       "<p>5 rows × 40 columns</p>\n",
       "</div>"
      ],
      "text/plain": [
       "      id  amount_tsh date_recorded        funder  gps_height     installer  \\\n",
       "0  69572      6000.0    2011-03-14         Roman        1390         Roman   \n",
       "1   8776         0.0    2013-03-06       Grumeti        1399       GRUMETI   \n",
       "2  34310        25.0    2013-02-25  Lottery Club         686  World vision   \n",
       "3  67743         0.0    2013-01-28        Unicef         263        UNICEF   \n",
       "4  19728         0.0    2011-07-13   Action In A           0       Artisan   \n",
       "\n",
       "   longitude   latitude              wpt_name  num_private  \\\n",
       "0  34.938093  -9.856322                  none            0   \n",
       "1  34.698766  -2.147466              Zahanati            0   \n",
       "2  37.460664  -3.821329           Kwa Mahundi            0   \n",
       "3  38.486161 -11.155298  Zahanati Ya Nanyumbu            0   \n",
       "4  31.130847  -1.825359               Shuleni            0   \n",
       "\n",
       "           ...          payment_type water_quality quality_group  \\\n",
       "0          ...              annually          soft          good   \n",
       "1          ...             never pay          soft          good   \n",
       "2          ...            per bucket          soft          good   \n",
       "3          ...             never pay          soft          good   \n",
       "4          ...             never pay          soft          good   \n",
       "\n",
       "       quantity  quantity_group                source           source_type  \\\n",
       "0        enough          enough                spring                spring   \n",
       "1  insufficient    insufficient  rainwater harvesting  rainwater harvesting   \n",
       "2        enough          enough                   dam                   dam   \n",
       "3           dry             dry           machine dbh              borehole   \n",
       "4      seasonal        seasonal  rainwater harvesting  rainwater harvesting   \n",
       "\n",
       "   source_class              waterpoint_type waterpoint_type_group  \n",
       "0   groundwater           communal standpipe    communal standpipe  \n",
       "1       surface           communal standpipe    communal standpipe  \n",
       "2       surface  communal standpipe multiple    communal standpipe  \n",
       "3   groundwater  communal standpipe multiple    communal standpipe  \n",
       "4       surface           communal standpipe    communal standpipe  \n",
       "\n",
       "[5 rows x 40 columns]"
      ]
     },
     "execution_count": 6,
     "metadata": {},
     "output_type": "execute_result"
    }
   ],
   "source": [
    "# Load the rest of the data and view\n",
    "values = pd.read_csv(\"train_set_values.csv\")\n",
    "values.head()"
   ]
  },
  {
   "cell_type": "markdown",
   "metadata": {},
   "source": [
    "### Merging files"
   ]
  },
  {
   "cell_type": "code",
   "execution_count": 7,
   "metadata": {},
   "outputs": [],
   "source": [
    "# Merge the target and values into one dataset\n",
    "df = pd.concat([values, target], axis=1)"
   ]
  },
  {
   "cell_type": "markdown",
   "metadata": {},
   "source": [
    "# Cleaning"
   ]
  },
  {
   "cell_type": "markdown",
   "metadata": {},
   "source": [
    "Feature: 'id'"
   ]
  },
  {
   "cell_type": "code",
   "execution_count": 8,
   "metadata": {},
   "outputs": [],
   "source": [
    "# 'id' feature is the first to be dropped since it is irrelevant\n",
    "df = df.drop(columns=\"id\", axis=1)"
   ]
  },
  {
   "cell_type": "markdown",
   "metadata": {},
   "source": [
    "### Missing data"
   ]
  },
  {
   "cell_type": "code",
   "execution_count": 9,
   "metadata": {},
   "outputs": [
    {
     "name": "stdout",
     "output_type": "stream",
     "text": [
      "36\n"
     ]
    }
   ],
   "source": [
    "# Check for duplicates\n",
    "duplicates = df[df.duplicated()]\n",
    "print(len(duplicates))"
   ]
  },
  {
   "cell_type": "code",
   "execution_count": 10,
   "metadata": {},
   "outputs": [],
   "source": [
    "# Drop all duplicates\n",
    "df.drop_duplicates(keep='first',inplace=True)"
   ]
  },
  {
   "cell_type": "markdown",
   "metadata": {},
   "source": [
    "## Clean Continuous Features"
   ]
  },
  {
   "cell_type": "code",
   "execution_count": 11,
   "metadata": {},
   "outputs": [
    {
     "data": {
      "text/html": [
       "<div>\n",
       "<style scoped>\n",
       "    .dataframe tbody tr th:only-of-type {\n",
       "        vertical-align: middle;\n",
       "    }\n",
       "\n",
       "    .dataframe tbody tr th {\n",
       "        vertical-align: top;\n",
       "    }\n",
       "\n",
       "    .dataframe thead th {\n",
       "        text-align: right;\n",
       "    }\n",
       "</style>\n",
       "<table border=\"1\" class=\"dataframe\">\n",
       "  <thead>\n",
       "    <tr style=\"text-align: right;\">\n",
       "      <th></th>\n",
       "      <th>amount_tsh</th>\n",
       "      <th>gps_height</th>\n",
       "      <th>longitude</th>\n",
       "      <th>latitude</th>\n",
       "      <th>num_private</th>\n",
       "      <th>region_code</th>\n",
       "      <th>district_code</th>\n",
       "      <th>population</th>\n",
       "      <th>construction_year</th>\n",
       "      <th>status_group</th>\n",
       "    </tr>\n",
       "  </thead>\n",
       "  <tbody>\n",
       "    <tr>\n",
       "      <th>count</th>\n",
       "      <td>59364.000000</td>\n",
       "      <td>59364.000000</td>\n",
       "      <td>59364.000000</td>\n",
       "      <td>5.936400e+04</td>\n",
       "      <td>59364.000000</td>\n",
       "      <td>59364.000000</td>\n",
       "      <td>59364.000000</td>\n",
       "      <td>59364.000000</td>\n",
       "      <td>59364.000000</td>\n",
       "      <td>59364.000000</td>\n",
       "    </tr>\n",
       "    <tr>\n",
       "      <th>mean</th>\n",
       "      <td>317.843017</td>\n",
       "      <td>668.702513</td>\n",
       "      <td>34.097560</td>\n",
       "      <td>-5.709463e+00</td>\n",
       "      <td>0.474429</td>\n",
       "      <td>15.295516</td>\n",
       "      <td>5.631494</td>\n",
       "      <td>180.019086</td>\n",
       "      <td>1301.441227</td>\n",
       "      <td>0.688380</td>\n",
       "    </tr>\n",
       "    <tr>\n",
       "      <th>std</th>\n",
       "      <td>2998.473133</td>\n",
       "      <td>693.131013</td>\n",
       "      <td>6.517065</td>\n",
       "      <td>2.943608e+00</td>\n",
       "      <td>12.239934</td>\n",
       "      <td>17.592619</td>\n",
       "      <td>9.636138</td>\n",
       "      <td>471.604294</td>\n",
       "      <td>951.369704</td>\n",
       "      <td>0.599883</td>\n",
       "    </tr>\n",
       "    <tr>\n",
       "      <th>min</th>\n",
       "      <td>0.000000</td>\n",
       "      <td>-90.000000</td>\n",
       "      <td>0.000000</td>\n",
       "      <td>-1.164944e+01</td>\n",
       "      <td>0.000000</td>\n",
       "      <td>1.000000</td>\n",
       "      <td>0.000000</td>\n",
       "      <td>0.000000</td>\n",
       "      <td>0.000000</td>\n",
       "      <td>0.000000</td>\n",
       "    </tr>\n",
       "    <tr>\n",
       "      <th>25%</th>\n",
       "      <td>0.000000</td>\n",
       "      <td>0.000000</td>\n",
       "      <td>33.095187</td>\n",
       "      <td>-8.541904e+00</td>\n",
       "      <td>0.000000</td>\n",
       "      <td>5.000000</td>\n",
       "      <td>2.000000</td>\n",
       "      <td>0.000000</td>\n",
       "      <td>0.000000</td>\n",
       "      <td>0.000000</td>\n",
       "    </tr>\n",
       "    <tr>\n",
       "      <th>50%</th>\n",
       "      <td>0.000000</td>\n",
       "      <td>370.000000</td>\n",
       "      <td>34.910318</td>\n",
       "      <td>-5.023822e+00</td>\n",
       "      <td>0.000000</td>\n",
       "      <td>12.000000</td>\n",
       "      <td>3.000000</td>\n",
       "      <td>25.000000</td>\n",
       "      <td>1986.000000</td>\n",
       "      <td>1.000000</td>\n",
       "    </tr>\n",
       "    <tr>\n",
       "      <th>75%</th>\n",
       "      <td>20.000000</td>\n",
       "      <td>1320.000000</td>\n",
       "      <td>37.179490</td>\n",
       "      <td>-3.326918e+00</td>\n",
       "      <td>0.000000</td>\n",
       "      <td>17.000000</td>\n",
       "      <td>5.000000</td>\n",
       "      <td>215.000000</td>\n",
       "      <td>2004.000000</td>\n",
       "      <td>1.000000</td>\n",
       "    </tr>\n",
       "    <tr>\n",
       "      <th>max</th>\n",
       "      <td>350000.000000</td>\n",
       "      <td>2770.000000</td>\n",
       "      <td>40.345193</td>\n",
       "      <td>-2.000000e-08</td>\n",
       "      <td>1776.000000</td>\n",
       "      <td>99.000000</td>\n",
       "      <td>80.000000</td>\n",
       "      <td>30500.000000</td>\n",
       "      <td>2013.000000</td>\n",
       "      <td>2.000000</td>\n",
       "    </tr>\n",
       "  </tbody>\n",
       "</table>\n",
       "</div>"
      ],
      "text/plain": [
       "          amount_tsh    gps_height     longitude      latitude   num_private  \\\n",
       "count   59364.000000  59364.000000  59364.000000  5.936400e+04  59364.000000   \n",
       "mean      317.843017    668.702513     34.097560 -5.709463e+00      0.474429   \n",
       "std      2998.473133    693.131013      6.517065  2.943608e+00     12.239934   \n",
       "min         0.000000    -90.000000      0.000000 -1.164944e+01      0.000000   \n",
       "25%         0.000000      0.000000     33.095187 -8.541904e+00      0.000000   \n",
       "50%         0.000000    370.000000     34.910318 -5.023822e+00      0.000000   \n",
       "75%        20.000000   1320.000000     37.179490 -3.326918e+00      0.000000   \n",
       "max    350000.000000   2770.000000     40.345193 -2.000000e-08   1776.000000   \n",
       "\n",
       "        region_code  district_code    population  construction_year  \\\n",
       "count  59364.000000   59364.000000  59364.000000       59364.000000   \n",
       "mean      15.295516       5.631494    180.019086        1301.441227   \n",
       "std       17.592619       9.636138    471.604294         951.369704   \n",
       "min        1.000000       0.000000      0.000000           0.000000   \n",
       "25%        5.000000       2.000000      0.000000           0.000000   \n",
       "50%       12.000000       3.000000     25.000000        1986.000000   \n",
       "75%       17.000000       5.000000    215.000000        2004.000000   \n",
       "max       99.000000      80.000000  30500.000000        2013.000000   \n",
       "\n",
       "       status_group  \n",
       "count  59364.000000  \n",
       "mean       0.688380  \n",
       "std        0.599883  \n",
       "min        0.000000  \n",
       "25%        0.000000  \n",
       "50%        1.000000  \n",
       "75%        1.000000  \n",
       "max        2.000000  "
      ]
     },
     "execution_count": 11,
     "metadata": {},
     "output_type": "execute_result"
    }
   ],
   "source": [
    "# After much debate I decided to start with the continuous features\n",
    "df.describe()"
   ]
  },
  {
   "cell_type": "markdown",
   "metadata": {},
   "source": [
    "Feature: 'amount_tsh'"
   ]
  },
  {
   "cell_type": "code",
   "execution_count": 12,
   "metadata": {},
   "outputs": [
    {
     "name": "stdout",
     "output_type": "stream",
     "text": [
      "Data equal to zero: 41603\n",
      "Percent of total: 0.7008119398962334\n"
     ]
    }
   ],
   "source": [
    "# 'amount_tsh' - relates to the amount of water available at the well\n",
    "print('Data equal to zero:', df.amount_tsh[df['amount_tsh'] == 0].count())\n",
    "print('Percent of total:', df.amount_tsh[df['amount_tsh'] == 0].count()/len(df))"
   ]
  },
  {
   "cell_type": "code",
   "execution_count": 13,
   "metadata": {},
   "outputs": [
    {
     "data": {
      "text/plain": [
       "<matplotlib.axes._subplots.AxesSubplot at 0x1a1c0af0b8>"
      ]
     },
     "execution_count": 13,
     "metadata": {},
     "output_type": "execute_result"
    },
    {
     "data": {
      "image/png": "[encoded data removed]",
      "text/plain": [
       "<Figure size 432x288 with 1 Axes>"
      ]
     },
     "metadata": {
      "needs_background": "light"
     },
     "output_type": "display_data"
    }
   ],
   "source": [
    "# Most of the values are zero\n",
    "df.amount_tsh.hist()"
   ]
  },
  {
   "cell_type": "code",
   "execution_count": 14,
   "metadata": {},
   "outputs": [
    {
     "name": "stdout",
     "output_type": "stream",
     "text": [
      "Number of outliers: 237\n"
     ]
    }
   ],
   "source": [
    "# Look for three standard deviations above the mean\n",
    "amount_tsh_std = df.amount_tsh.mean() + df.amount_tsh.std()*3\n",
    "amount_tsh_std\n",
    "# Count how many rows are outliers\n",
    "print(\"Number of outliers:\", df.amount_tsh[df['amount_tsh'] > amount_tsh_std].count())\n",
    "# Remove outliers from the data\n",
    "df = df[df['amount_tsh'] < amount_tsh_std]"
   ]
  },
  {
   "cell_type": "code",
   "execution_count": 15,
   "metadata": {},
   "outputs": [
    {
     "data": {
      "text/plain": [
       "count    17524.000000\n",
       "mean       722.371197\n",
       "std       1256.512913\n",
       "min          0.200000\n",
       "25%         50.000000\n",
       "50%        250.000000\n",
       "75%        600.000000\n",
       "max       9000.000000\n",
       "Name: amount_tsh, dtype: float64"
      ]
     },
     "execution_count": 15,
     "metadata": {},
     "output_type": "execute_result"
    }
   ],
   "source": [
    "# Trying to decide how these numbers are spread out\n",
    "amount = df[df.amount_tsh > 0]\n",
    "amount.amount_tsh.describe()"
   ]
  },
  {
   "cell_type": "code",
   "execution_count": 16,
   "metadata": {},
   "outputs": [],
   "source": [
    "# Create bins for 'amount_tsh' based on the values observed. 3 values will result in 2 bins\n",
    "bins_amount_tsh = [-1, 1, 9001]\n",
    "amount_tsh_bins = pd.cut(df['amount_tsh'], bins_amount_tsh)\n",
    "amount_tsh_bins = amount_tsh_bins.cat.as_ordered()\n",
    "\n",
    "amount_tsh_dummy = pd.get_dummies(amount_tsh_bins, prefix=\"tsh\", drop_first=True)\n",
    "df = df.drop([\"amount_tsh\"], axis=1)\n",
    "df = pd.concat([df, amount_tsh_dummy], axis=1)"
   ]
  },
  {
   "cell_type": "code",
   "execution_count": 17,
   "metadata": {},
   "outputs": [
    {
     "data": {
      "text/html": [
       "<div>\n",
       "<style scoped>\n",
       "    .dataframe tbody tr th:only-of-type {\n",
       "        vertical-align: middle;\n",
       "    }\n",
       "\n",
       "    .dataframe tbody tr th {\n",
       "        vertical-align: top;\n",
       "    }\n",
       "\n",
       "    .dataframe thead th {\n",
       "        text-align: right;\n",
       "    }\n",
       "</style>\n",
       "<table border=\"1\" class=\"dataframe\">\n",
       "  <thead>\n",
       "    <tr style=\"text-align: right;\">\n",
       "      <th></th>\n",
       "      <th>gps_height</th>\n",
       "      <th>longitude</th>\n",
       "      <th>latitude</th>\n",
       "      <th>num_private</th>\n",
       "      <th>region_code</th>\n",
       "      <th>district_code</th>\n",
       "      <th>population</th>\n",
       "      <th>construction_year</th>\n",
       "      <th>status_group</th>\n",
       "      <th>tsh_(1, 9001]</th>\n",
       "    </tr>\n",
       "  </thead>\n",
       "  <tbody>\n",
       "    <tr>\n",
       "      <th>count</th>\n",
       "      <td>59127.000000</td>\n",
       "      <td>59127.000000</td>\n",
       "      <td>5.912700e+04</td>\n",
       "      <td>59127.000000</td>\n",
       "      <td>59127.000000</td>\n",
       "      <td>59127.000000</td>\n",
       "      <td>59127.000000</td>\n",
       "      <td>59127.000000</td>\n",
       "      <td>59127.000000</td>\n",
       "      <td>59127.000000</td>\n",
       "    </tr>\n",
       "    <tr>\n",
       "      <th>mean</th>\n",
       "      <td>666.869907</td>\n",
       "      <td>34.089332</td>\n",
       "      <td>-5.706473e+00</td>\n",
       "      <td>0.470310</td>\n",
       "      <td>15.319634</td>\n",
       "      <td>5.638575</td>\n",
       "      <td>179.698429</td>\n",
       "      <td>1298.980838</td>\n",
       "      <td>0.687385</td>\n",
       "      <td>0.296261</td>\n",
       "    </tr>\n",
       "    <tr>\n",
       "      <th>std</th>\n",
       "      <td>692.917065</td>\n",
       "      <td>6.527572</td>\n",
       "      <td>2.944128e+00</td>\n",
       "      <td>12.242542</td>\n",
       "      <td>17.613568</td>\n",
       "      <td>9.637267</td>\n",
       "      <td>471.974796</td>\n",
       "      <td>952.138582</td>\n",
       "      <td>0.600455</td>\n",
       "      <td>0.456611</td>\n",
       "    </tr>\n",
       "    <tr>\n",
       "      <th>min</th>\n",
       "      <td>-90.000000</td>\n",
       "      <td>0.000000</td>\n",
       "      <td>-1.164944e+01</td>\n",
       "      <td>0.000000</td>\n",
       "      <td>1.000000</td>\n",
       "      <td>0.000000</td>\n",
       "      <td>0.000000</td>\n",
       "      <td>0.000000</td>\n",
       "      <td>0.000000</td>\n",
       "      <td>0.000000</td>\n",
       "    </tr>\n",
       "    <tr>\n",
       "      <th>25%</th>\n",
       "      <td>0.000000</td>\n",
       "      <td>33.088041</td>\n",
       "      <td>-8.538582e+00</td>\n",
       "      <td>0.000000</td>\n",
       "      <td>5.000000</td>\n",
       "      <td>2.000000</td>\n",
       "      <td>0.000000</td>\n",
       "      <td>0.000000</td>\n",
       "      <td>0.000000</td>\n",
       "      <td>0.000000</td>\n",
       "    </tr>\n",
       "    <tr>\n",
       "      <th>50%</th>\n",
       "      <td>367.000000</td>\n",
       "      <td>34.904527</td>\n",
       "      <td>-5.020734e+00</td>\n",
       "      <td>0.000000</td>\n",
       "      <td>12.000000</td>\n",
       "      <td>3.000000</td>\n",
       "      <td>25.000000</td>\n",
       "      <td>1985.000000</td>\n",
       "      <td>1.000000</td>\n",
       "      <td>0.000000</td>\n",
       "    </tr>\n",
       "    <tr>\n",
       "      <th>75%</th>\n",
       "      <td>1318.000000</td>\n",
       "      <td>37.178117</td>\n",
       "      <td>-3.326129e+00</td>\n",
       "      <td>0.000000</td>\n",
       "      <td>17.000000</td>\n",
       "      <td>5.000000</td>\n",
       "      <td>214.000000</td>\n",
       "      <td>2004.000000</td>\n",
       "      <td>1.000000</td>\n",
       "      <td>1.000000</td>\n",
       "    </tr>\n",
       "    <tr>\n",
       "      <th>max</th>\n",
       "      <td>2770.000000</td>\n",
       "      <td>40.345193</td>\n",
       "      <td>-2.000000e-08</td>\n",
       "      <td>1776.000000</td>\n",
       "      <td>99.000000</td>\n",
       "      <td>80.000000</td>\n",
       "      <td>30500.000000</td>\n",
       "      <td>2013.000000</td>\n",
       "      <td>2.000000</td>\n",
       "      <td>1.000000</td>\n",
       "    </tr>\n",
       "  </tbody>\n",
       "</table>\n",
       "</div>"
      ],
      "text/plain": [
       "         gps_height     longitude      latitude   num_private   region_code  \\\n",
       "count  59127.000000  59127.000000  5.912700e+04  59127.000000  59127.000000   \n",
       "mean     666.869907     34.089332 -5.706473e+00      0.470310     15.319634   \n",
       "std      692.917065      6.527572  2.944128e+00     12.242542     17.613568   \n",
       "min      -90.000000      0.000000 -1.164944e+01      0.000000      1.000000   \n",
       "25%        0.000000     33.088041 -8.538582e+00      0.000000      5.000000   \n",
       "50%      367.000000     34.904527 -5.020734e+00      0.000000     12.000000   \n",
       "75%     1318.000000     37.178117 -3.326129e+00      0.000000     17.000000   \n",
       "max     2770.000000     40.345193 -2.000000e-08   1776.000000     99.000000   \n",
       "\n",
       "       district_code    population  construction_year  status_group  \\\n",
       "count   59127.000000  59127.000000       59127.000000  59127.000000   \n",
       "mean        5.638575    179.698429        1298.980838      0.687385   \n",
       "std         9.637267    471.974796         952.138582      0.600455   \n",
       "min         0.000000      0.000000           0.000000      0.000000   \n",
       "25%         2.000000      0.000000           0.000000      0.000000   \n",
       "50%         3.000000     25.000000        1985.000000      1.000000   \n",
       "75%         5.000000    214.000000        2004.000000      1.000000   \n",
       "max        80.000000  30500.000000        2013.000000      2.000000   \n",
       "\n",
       "       tsh_(1, 9001]  \n",
       "count   59127.000000  \n",
       "mean        0.296261  \n",
       "std         0.456611  \n",
       "min         0.000000  \n",
       "25%         0.000000  \n",
       "50%         0.000000  \n",
       "75%         1.000000  \n",
       "max         1.000000  "
      ]
     },
     "execution_count": 17,
     "metadata": {},
     "output_type": "execute_result"
    }
   ],
   "source": [
    "df.describe()"
   ]
  },
  {
   "cell_type": "markdown",
   "metadata": {},
   "source": [
    "Feature: 'gps_height'"
   ]
  },
  {
   "cell_type": "code",
   "execution_count": 18,
   "metadata": {},
   "outputs": [
    {
     "name": "stdout",
     "output_type": "stream",
     "text": [
      "Data less than zero: 1484\n",
      "Percent of total: 0.025098516752076038\n"
     ]
    }
   ],
   "source": [
    "# gps_height\n",
    "print('Data less than zero:', df.gps_height[df['gps_height'] < 0].count())\n",
    "print('Percent of total:', df.gps_height[df['gps_height'] < 0].count()/len(df))"
   ]
  },
  {
   "cell_type": "code",
   "execution_count": 19,
   "metadata": {},
   "outputs": [
    {
     "data": {
      "text/plain": [
       "<matplotlib.axes._subplots.AxesSubplot at 0x1a18905208>"
      ]
     },
     "execution_count": 19,
     "metadata": {},
     "output_type": "execute_result"
    },
    {
     "data": {
      "image/png": "[encoded data removed]",
      "text/plain": [
       "<Figure size 432x288 with 1 Axes>"
      ]
     },
     "metadata": {
      "needs_background": "light"
     },
     "output_type": "display_data"
    }
   ],
   "source": [
    "# Again, most values are zero, but so is sea level!\n",
    "sns.boxplot(x=df.gps_height)"
   ]
  },
  {
   "cell_type": "code",
   "execution_count": 20,
   "metadata": {},
   "outputs": [
    {
     "data": {
      "text/plain": [
       "count    1484.000000\n",
       "mean      -20.025606\n",
       "std        12.180454\n",
       "min       -90.000000\n",
       "25%       -28.000000\n",
       "50%       -18.000000\n",
       "75%       -11.000000\n",
       "max        -1.000000\n",
       "Name: gps_height, dtype: float64"
      ]
     },
     "execution_count": 20,
     "metadata": {},
     "output_type": "execute_result"
    }
   ],
   "source": [
    "# I suppose if the well is underground than the gps reading would be negative\n",
    "gps = df.gps_height[df['gps_height'] < 0]\n",
    "gps.describe()"
   ]
  },
  {
   "cell_type": "code",
   "execution_count": 21,
   "metadata": {},
   "outputs": [
    {
     "data": {
      "text/html": [
       "<div>\n",
       "<style scoped>\n",
       "    .dataframe tbody tr th:only-of-type {\n",
       "        vertical-align: middle;\n",
       "    }\n",
       "\n",
       "    .dataframe tbody tr th {\n",
       "        vertical-align: top;\n",
       "    }\n",
       "\n",
       "    .dataframe thead th {\n",
       "        text-align: right;\n",
       "    }\n",
       "</style>\n",
       "<table border=\"1\" class=\"dataframe\">\n",
       "  <thead>\n",
       "    <tr style=\"text-align: right;\">\n",
       "      <th></th>\n",
       "      <th>gps_height</th>\n",
       "      <th>longitude</th>\n",
       "      <th>latitude</th>\n",
       "      <th>num_private</th>\n",
       "      <th>region_code</th>\n",
       "      <th>district_code</th>\n",
       "      <th>population</th>\n",
       "      <th>construction_year</th>\n",
       "      <th>status_group</th>\n",
       "      <th>tsh_(1, 9001]</th>\n",
       "    </tr>\n",
       "  </thead>\n",
       "  <tbody>\n",
       "    <tr>\n",
       "      <th>count</th>\n",
       "      <td>57643.000000</td>\n",
       "      <td>57643.000000</td>\n",
       "      <td>5.764300e+04</td>\n",
       "      <td>57643.000000</td>\n",
       "      <td>57643.000000</td>\n",
       "      <td>57643.000000</td>\n",
       "      <td>57643.000000</td>\n",
       "      <td>57643.000000</td>\n",
       "      <td>57643.000000</td>\n",
       "      <td>57643.000000</td>\n",
       "    </tr>\n",
       "    <tr>\n",
       "      <th>mean</th>\n",
       "      <td>684.553805</td>\n",
       "      <td>33.953825</td>\n",
       "      <td>-5.654338e+00</td>\n",
       "      <td>0.469268</td>\n",
       "      <td>14.820256</td>\n",
       "      <td>5.387037</td>\n",
       "      <td>177.687247</td>\n",
       "      <td>1288.871346</td>\n",
       "      <td>0.690231</td>\n",
       "      <td>0.292941</td>\n",
       "    </tr>\n",
       "    <tr>\n",
       "      <th>std</th>\n",
       "      <td>692.843000</td>\n",
       "      <td>6.555084</td>\n",
       "      <td>2.953170e+00</td>\n",
       "      <td>12.345472</td>\n",
       "      <td>16.619158</td>\n",
       "      <td>8.979684</td>\n",
       "      <td>472.863191</td>\n",
       "      <td>955.226485</td>\n",
       "      <td>0.601468</td>\n",
       "      <td>0.455116</td>\n",
       "    </tr>\n",
       "    <tr>\n",
       "      <th>min</th>\n",
       "      <td>0.000000</td>\n",
       "      <td>0.000000</td>\n",
       "      <td>-1.164944e+01</td>\n",
       "      <td>0.000000</td>\n",
       "      <td>1.000000</td>\n",
       "      <td>0.000000</td>\n",
       "      <td>0.000000</td>\n",
       "      <td>0.000000</td>\n",
       "      <td>0.000000</td>\n",
       "      <td>0.000000</td>\n",
       "    </tr>\n",
       "    <tr>\n",
       "      <th>25%</th>\n",
       "      <td>0.000000</td>\n",
       "      <td>33.045499</td>\n",
       "      <td>-8.535650e+00</td>\n",
       "      <td>0.000000</td>\n",
       "      <td>5.000000</td>\n",
       "      <td>2.000000</td>\n",
       "      <td>0.000000</td>\n",
       "      <td>0.000000</td>\n",
       "      <td>0.000000</td>\n",
       "      <td>0.000000</td>\n",
       "    </tr>\n",
       "    <tr>\n",
       "      <th>50%</th>\n",
       "      <td>408.000000</td>\n",
       "      <td>34.827300</td>\n",
       "      <td>-4.911868e+00</td>\n",
       "      <td>0.000000</td>\n",
       "      <td>12.000000</td>\n",
       "      <td>3.000000</td>\n",
       "      <td>20.000000</td>\n",
       "      <td>1985.000000</td>\n",
       "      <td>1.000000</td>\n",
       "      <td>0.000000</td>\n",
       "    </tr>\n",
       "    <tr>\n",
       "      <th>75%</th>\n",
       "      <td>1329.000000</td>\n",
       "      <td>37.036182</td>\n",
       "      <td>-3.315421e+00</td>\n",
       "      <td>0.000000</td>\n",
       "      <td>17.000000</td>\n",
       "      <td>5.000000</td>\n",
       "      <td>210.000000</td>\n",
       "      <td>2004.000000</td>\n",
       "      <td>1.000000</td>\n",
       "      <td>1.000000</td>\n",
       "    </tr>\n",
       "    <tr>\n",
       "      <th>max</th>\n",
       "      <td>2770.000000</td>\n",
       "      <td>40.283599</td>\n",
       "      <td>-2.000000e-08</td>\n",
       "      <td>1776.000000</td>\n",
       "      <td>99.000000</td>\n",
       "      <td>80.000000</td>\n",
       "      <td>30500.000000</td>\n",
       "      <td>2013.000000</td>\n",
       "      <td>2.000000</td>\n",
       "      <td>1.000000</td>\n",
       "    </tr>\n",
       "  </tbody>\n",
       "</table>\n",
       "</div>"
      ],
      "text/plain": [
       "         gps_height     longitude      latitude   num_private   region_code  \\\n",
       "count  57643.000000  57643.000000  5.764300e+04  57643.000000  57643.000000   \n",
       "mean     684.553805     33.953825 -5.654338e+00      0.469268     14.820256   \n",
       "std      692.843000      6.555084  2.953170e+00     12.345472     16.619158   \n",
       "min        0.000000      0.000000 -1.164944e+01      0.000000      1.000000   \n",
       "25%        0.000000     33.045499 -8.535650e+00      0.000000      5.000000   \n",
       "50%      408.000000     34.827300 -4.911868e+00      0.000000     12.000000   \n",
       "75%     1329.000000     37.036182 -3.315421e+00      0.000000     17.000000   \n",
       "max     2770.000000     40.283599 -2.000000e-08   1776.000000     99.000000   \n",
       "\n",
       "       district_code    population  construction_year  status_group  \\\n",
       "count   57643.000000  57643.000000       57643.000000  57643.000000   \n",
       "mean        5.387037    177.687247        1288.871346      0.690231   \n",
       "std         8.979684    472.863191         955.226485      0.601468   \n",
       "min         0.000000      0.000000           0.000000      0.000000   \n",
       "25%         2.000000      0.000000           0.000000      0.000000   \n",
       "50%         3.000000     20.000000        1985.000000      1.000000   \n",
       "75%         5.000000    210.000000        2004.000000      1.000000   \n",
       "max        80.000000  30500.000000        2013.000000      2.000000   \n",
       "\n",
       "       tsh_(1, 9001]  \n",
       "count   57643.000000  \n",
       "mean        0.292941  \n",
       "std         0.455116  \n",
       "min         0.000000  \n",
       "25%         0.000000  \n",
       "50%         0.000000  \n",
       "75%         1.000000  \n",
       "max         1.000000  "
      ]
     },
     "execution_count": 21,
     "metadata": {},
     "output_type": "execute_result"
    }
   ],
   "source": [
    "# Decided to get rid of all rows with negative gps_height \n",
    "df = df[df['gps_height'] >= 0]\n",
    "df.describe()"
   ]
  },
  {
   "cell_type": "code",
   "execution_count": 22,
   "metadata": {},
   "outputs": [
    {
     "name": "stdout",
     "output_type": "stream",
     "text": [
      "Number of outliers: 1\n"
     ]
    }
   ],
   "source": [
    "# Look for three standard deviations above the mean\n",
    "gps_height_std = df.gps_height.mean() + df.gps_height.std()*3\n",
    "# Count how many rows are outliers\n",
    "print(\"Number of outliers:\", df.gps_height[df['gps_height'] > gps_height_std].count())\n",
    "# Remove outliers from the data\n",
    "df = df[df['gps_height'] < gps_height_std]"
   ]
  },
  {
   "cell_type": "markdown",
   "metadata": {},
   "source": [
    "Feature: 'longitude'"
   ]
  },
  {
   "cell_type": "code",
   "execution_count": 23,
   "metadata": {},
   "outputs": [
    {
     "name": "stdout",
     "output_type": "stream",
     "text": [
      "Data less than zero: 1777\n",
      "Percent of total: 0.030828215537281843\n"
     ]
    }
   ],
   "source": [
    "print('Data less than zero:', df.longitude[df['longitude'] <= 0].count())\n",
    "print('Percent of total:', df.longitude[df['longitude'] <= 0].count()/len(df))"
   ]
  },
  {
   "cell_type": "code",
   "execution_count": 24,
   "metadata": {},
   "outputs": [
    {
     "data": {
      "text/plain": [
       "count    55865.000000\n",
       "mean        35.033824\n",
       "std          2.549193\n",
       "min         29.607122\n",
       "25%         33.225435\n",
       "50%         34.918657\n",
       "75%         37.090302\n",
       "max         40.283599\n",
       "Name: longitude, dtype: float64"
      ]
     },
     "execution_count": 24,
     "metadata": {},
     "output_type": "execute_result"
    }
   ],
   "source": [
    "# Let's get rid of the zeros\n",
    "df = df[df.longitude > 0]\n",
    "df.longitude.describe()"
   ]
  },
  {
   "cell_type": "markdown",
   "metadata": {},
   "source": [
    "Feature: 'latitude'"
   ]
  },
  {
   "cell_type": "code",
   "execution_count": 25,
   "metadata": {},
   "outputs": [],
   "source": [
    "# 'latitude' seems pretty good.\n",
    "# Lots of of negatives but Tanzania is east of the meridian!"
   ]
  },
  {
   "cell_type": "code",
   "execution_count": 26,
   "metadata": {},
   "outputs": [
    {
     "data": {
      "text/plain": [
       "Text(0.5, 1.0, 'Tanzanian Waterpoints')"
      ]
     },
     "execution_count": 26,
     "metadata": {},
     "output_type": "execute_result"
    },
    {
     "data": {
      "image/png": "[encoded data removed]",
      "text/plain": [
       "<Figure size 576x576 with 1 Axes>"
      ]
     },
     "metadata": {
      "needs_background": "light"
     },
     "output_type": "display_data"
    }
   ],
   "source": [
    "# Look at where waterpoints are located in Tanzania\n",
    "plt.figure(figsize=(8,8))\n",
    "plt.scatter(df['longitude'], df['latitude'])\n",
    "plt.xlabel('Longitude')\n",
    "plt.ylabel('Latitude')\n",
    "plt.title(\"Tanzanian Waterpoints\", fontsize=18)"
   ]
  },
  {
   "cell_type": "code",
   "execution_count": 27,
   "metadata": {},
   "outputs": [
    {
     "data": {
      "text/html": [
       "<div style=\"width:100%;\"><div style=\"position:relative;width:100%;height:0;padding-bottom:60%;\"><iframe src=\"data:text/html;charset=utf-8;base64,PCFET0NUWVBFIGh0bWw+CjxoZWFkPiAgICAKICAgIDxtZXRhIGh0dHAtZXF1aXY9ImNvbnRlbnQtdHlwZSIgY29udGVudD0idGV4dC9odG1sOyBjaGFyc2V0PVVURi04IiAvPgogICAgCiAgICAgICAgPHNjcmlwdD4KICAgICAgICAgICAgTF9OT19UT1VDSCA9IGZhbHNlOwogICAgICAgICAgICBMX0RJU0FCTEVfM0QgPSBmYWxzZTsKICAgICAgICA8L3NjcmlwdD4KICAgIAogICAgPHNjcmlwdCBzcmM9Imh0dHBzOi8vY2RuLmpzZGVsaXZyLm5ldC9ucG0vbGVhZmxldEAxLjUuMS9kaXN0L2xlYWZsZXQuanMiPjwvc2NyaXB0PgogICAgPHNjcmlwdCBzcmM9Imh0dHBzOi8vY29kZS5qcXVlcnkuY29tL2pxdWVyeS0xLjEyLjQubWluLmpzIj48L3NjcmlwdD4KICAgIDxzY3JpcHQgc3JjPSJodHRwczovL21heGNkbi5ib290c3RyYXBjZG4uY29tL2Jvb3RzdHJhcC8zLjIuMC9qcy9ib290c3RyYXAubWluLmpzIj48L3NjcmlwdD4KICAgIDxzY3JpcHQgc3JjPSJodHRwczovL2NkbmpzLmNsb3VkZmxhcmUuY29tL2FqYXgvbGlicy9MZWFmbGV0LmF3ZXNvbWUtbWFya2Vycy8yLjAuMi9sZWFmbGV0LmF3ZXNvbWUtbWFya2Vycy5qcyI+PC9zY3JpcHQ+CiAgICA8bGluayByZWw9InN0eWxlc2hlZXQiIGhyZWY9Imh0dHBzOi8vY2RuLmpzZGVsaXZyLm5ldC9ucG0vbGVhZmxldEAxLjUuMS9kaXN0L2xlYWZsZXQuY3NzIi8+CiAgICA8bGluayByZWw9InN0eWxlc2hlZXQiIGhyZWY9Imh0dHBzOi8vbWF4Y2RuLmJvb3RzdHJhcGNkbi5jb20vYm9vdHN0cmFwLzMuMi4wL2Nzcy9ib290c3RyYXAubWluLmNzcyIvPgogICAgPGxpbmsgcmVsPSJzdHlsZXNoZWV0IiBocmVmPSJodHRwczovL21heGNkbi5ib290c3RyYXBjZG4uY29tL2Jvb3RzdHJhcC8zLjIuMC9jc3MvYm9vdHN0cmFwLXRoZW1lLm1pbi5jc3MiLz4KICAgIDxsaW5rIHJlbD0ic3R5bGVzaGVldCIgaHJlZj0iaHR0cHM6Ly9tYXhjZG4uYm9vdHN0cmFwY2RuLmNvbS9mb250LWF3ZXNvbWUvNC42LjMvY3NzL2ZvbnQtYXdlc29tZS5taW4uY3NzIi8+CiAgICA8bGluayByZWw9InN0eWxlc2hlZXQiIGhyZWY9Imh0dHBzOi8vY2RuanMuY2xvdWRmbGFyZS5jb20vYWpheC9saWJzL0xlYWZsZXQuYXdlc29tZS1tYXJrZXJzLzIuMC4yL2xlYWZsZXQuYXdlc29tZS1tYXJrZXJzLmNzcyIvPgogICAgPGxpbmsgcmVsPSJzdHlsZXNoZWV0IiBocmVmPSJodHRwczovL3Jhd2Nkbi5naXRoYWNrLmNvbS9weXRob24tdmlzdWFsaXphdGlvbi9mb2xpdW0vbWFzdGVyL2ZvbGl1bS90ZW1wbGF0ZXMvbGVhZmxldC5hd2Vzb21lLnJvdGF0ZS5jc3MiLz4KICAgIDxzdHlsZT5odG1sLCBib2R5IHt3aWR0aDogMTAwJTtoZWlnaHQ6IDEwMCU7bWFyZ2luOiAwO3BhZGRpbmc6IDA7fTwvc3R5bGU+CiAgICA8c3R5bGU+I21hcCB7cG9zaXRpb246YWJzb2x1dGU7dG9wOjA7Ym90dG9tOjA7cmlnaHQ6MDtsZWZ0OjA7fTwvc3R5bGU+CiAgICAKICAgICAgICAgICAgPG1ldGEgbmFtZT0idmlld3BvcnQiIGNvbnRlbnQ9IndpZHRoPWRldmljZS13aWR0aCwKICAgICAgICAgICAgICAgIGluaXRpYWwtc2NhbGU9MS4wLCBtYXhpbXVtLXNjYWxlPTEuMCwgdXNlci1zY2FsYWJsZT1ubyIgLz4KICAgICAgICAgICAgPHN0eWxlPgogICAgICAgICAgICAgICAgI21hcF84YzcxYTIwMTZlMDc0OTRiOTRmZTdjZmNjMWVmNTg4MyB7CiAgICAgICAgICAgICAgICAgICAgcG9zaXRpb246IHJlbGF0aXZlOwogICAgICAgICAgICAgICAgICAgIHdpZHRoOiA1MDAuMHB4OwogICAgICAgICAgICAgICAgICAgIGhlaWdodDogNTAwLjBweDsKICAgICAgICAgICAgICAgICAgICBsZWZ0OiAwLjAlOwogICAgICAgICAgICAgICAgICAgIHRvcDogMC4wJTsKICAgICAgICAgICAgICAgIH0KICAgICAgICAgICAgPC9zdHlsZT4KICAgICAgICAKPC9oZWFkPgo8Ym9keT4gICAgCiAgICAKICAgICAgICAgICAgPGRpdiBjbGFzcz0iZm9saXVtLW1hcCIgaWQ9Im1hcF84YzcxYTIwMTZlMDc0OTRiOTRmZTdjZmNjMWVmNTg4MyIgPjwvZGl2PgogICAgICAgIAo8L2JvZHk+CjxzY3JpcHQ+ICAgIAogICAgCiAgICAgICAgICAgIHZhciBtYXBfOGM3MWEyMDE2ZTA3NDk0Yjk0ZmU3Y2ZjYzFlZjU4ODMgPSBMLm1hcCgKICAgICAgICAgICAgICAgICJtYXBfOGM3MWEyMDE2ZTA3NDk0Yjk0ZmU3Y2ZjYzFlZjU4ODMiLAogICAgICAgICAgICAgICAgewogICAgICAgICAgICAgICAgICAgIGNlbnRlcjogWy02LjE3MjIxLCAzNS43Mzk0N10sCiAgICAgICAgICAgICAgICAgICAgY3JzOiBMLkNSUy5FUFNHMzg1NywKICAgICAgICAgICAgICAgICAgICB6b29tOiA1LAogICAgICAgICAgICAgICAgICAgIHpvb21Db250cm9sOiB0cnVlLAogICAgICAgICAgICAgICAgICAgIHByZWZlckNhbnZhczogZmFsc2UsCiAgICAgICAgICAgICAgICB9CiAgICAgICAgICAgICk7CgogICAgICAgICAgICAKCiAgICAgICAgCiAgICAKICAgICAgICAgICAgdmFyIHRpbGVfbGF5ZXJfNmE1Yjk1ZjZhYTYyNGYwYmE0OTVjNWIyMDc2OGI4MDEgPSBMLnRpbGVMYXllcigKICAgICAgICAgICAgICAgICJodHRwczovL3tzfS50aWxlLm9wZW5zdHJlZXRtYXAub3JnL3t6fS97eH0ve3l9LnBuZyIsCiAgICAgICAgICAgICAgICB7ImF0dHJpYnV0aW9uIjogIkRhdGEgYnkgXHUwMDI2Y29weTsgXHUwMDNjYSBocmVmPVwiaHR0cDovL29wZW5zdHJlZXRtYXAub3JnXCJcdTAwM2VPcGVuU3RyZWV0TWFwXHUwMDNjL2FcdTAwM2UsIHVuZGVyIFx1MDAzY2EgaHJlZj1cImh0dHA6Ly93d3cub3BlbnN0cmVldG1hcC5vcmcvY29weXJpZ2h0XCJcdTAwM2VPRGJMXHUwMDNjL2FcdTAwM2UuIiwgImRldGVjdFJldGluYSI6IGZhbHNlLCAibWF4TmF0aXZlWm9vbSI6IDUsICJtYXhab29tIjogNSwgIm1pblpvb20iOiA1LCAibm9XcmFwIjogZmFsc2UsICJvcGFjaXR5IjogMSwgInN1YmRvbWFpbnMiOiAiYWJjIiwgInRtcyI6IGZhbHNlfQogICAgICAgICAgICApLmFkZFRvKG1hcF84YzcxYTIwMTZlMDc0OTRiOTRmZTdjZmNjMWVmNTg4Myk7CiAgICAgICAgCjwvc2NyaXB0Pg==\" style=\"position:absolute;width:100%;height:100%;left:0;top:0;border:none !important;\" allowfullscreen webkitallowfullscreen mozallowfullscreen></iframe></div></div>"
      ],
      "text/plain": [
       "<folium.folium.Map at 0x1121057b8>"
      ]
     },
     "execution_count": 27,
     "metadata": {},
     "output_type": "execute_result"
    }
   ],
   "source": [
    "# Use folium to view a map of Tanzania.\n",
    "tanzania = folium.Map(location=[-6.17221, 35.73947], zoom_start=5, width=500, \n",
    "                      height=500, min_zoom=5, max_zoom=5)\n",
    "tanzania"
   ]
  },
  {
   "cell_type": "markdown",
   "metadata": {},
   "source": [
    "Feature: 'num_private' - there is no definition for this column."
   ]
  },
  {
   "cell_type": "code",
   "execution_count": 28,
   "metadata": {},
   "outputs": [],
   "source": [
    "# 'num_private' - seems unlikely to be much help to my model."
   ]
  },
  {
   "cell_type": "code",
   "execution_count": 29,
   "metadata": {},
   "outputs": [
    {
     "name": "stdout",
     "output_type": "stream",
     "text": [
      "Data equal to zero: 55134\n",
      "Percent of total: 0.9869148840955876\n"
     ]
    }
   ],
   "source": [
    "# Almost all of the data points are zero.\n",
    "print('Data equal to zero:', df.num_private[df['num_private'] == 0].count())\n",
    "print('Percent of total:', df.num_private[df['num_private'] == 0].count()/len(df))"
   ]
  },
  {
   "cell_type": "code",
   "execution_count": 30,
   "metadata": {},
   "outputs": [
    {
     "data": {
      "text/plain": [
       "Pangani                    568\n",
       "Wami / Ruvu                 56\n",
       "Rufiji                      35\n",
       "Lake Nyasa                  26\n",
       "Ruvuma / Southern Coast     21\n",
       "Lake Victoria               17\n",
       "Internal                     8\n",
       "Name: basin, dtype: int64"
      ]
     },
     "execution_count": 30,
     "metadata": {},
     "output_type": "execute_result"
    }
   ],
   "source": [
    "# The majority of 'num_private' are in the 'Pangani' basin.\n",
    "private = df[df['num_private'] > 0]\n",
    "private.basin.value_counts()"
   ]
  },
  {
   "cell_type": "code",
   "execution_count": 31,
   "metadata": {},
   "outputs": [
    {
     "name": "stdout",
     "output_type": "stream",
     "text": [
      "Number of outliers: 224\n"
     ]
    }
   ],
   "source": [
    "# Look for three standard deviations above the mean\n",
    "num_private_std = df.num_private.mean() + df.num_private.std()*3\n",
    "# Count how many rows are outliers\n",
    "print(\"Number of outliers:\", df.num_private[df['num_private'] > num_private_std].count())\n",
    "# Remove outliers from the data\n",
    "df = df[df['num_private'] < num_private_std]"
   ]
  },
  {
   "cell_type": "markdown",
   "metadata": {},
   "source": [
    "Feature: 'region_code'"
   ]
  },
  {
   "cell_type": "code",
   "execution_count": 32,
   "metadata": {},
   "outputs": [
    {
     "data": {
      "text/plain": [
       "array([11, 20, 21, 90, 18,  4, 17, 14, 60, 10,  3, 15, 19, 16, 80,  1,  6,\n",
       "        2, 12, 13,  5,  7, 99, 24,  9,  8, 40])"
      ]
     },
     "execution_count": 32,
     "metadata": {},
     "output_type": "execute_result"
    }
   ],
   "source": [
    "# 27 different region codes - according to Google there should be 30 ?\n",
    "df.region_code.unique()"
   ]
  },
  {
   "cell_type": "code",
   "execution_count": 33,
   "metadata": {},
   "outputs": [
    {
     "data": {
      "text/plain": [
       "<matplotlib.axes._subplots.AxesSubplot at 0x1a18ec6b00>"
      ]
     },
     "execution_count": 33,
     "metadata": {},
     "output_type": "execute_result"
    },
    {
     "data": {
      "image/png": "[encoded data removed]",
      "text/plain": [
       "<Figure size 432x288 with 1 Axes>"
      ]
     },
     "metadata": {
      "needs_background": "light"
     },
     "output_type": "display_data"
    }
   ],
   "source": [
    "# Visualize the region data\n",
    "df.region_code.hist()"
   ]
  },
  {
   "cell_type": "code",
   "execution_count": 34,
   "metadata": {},
   "outputs": [
    {
     "name": "stdout",
     "output_type": "stream",
     "text": [
      "Number of outliers: 2251\n"
     ]
    }
   ],
   "source": [
    "# Look for three standard deviations above the mean\n",
    "region_code_std = df.region_code.mean() + df.region_code.std()*3\n",
    "# Count how many rows are outliers\n",
    "print(\"Number of outliers:\", df.region_code[df['region_code'] > region_code_std].count())\n",
    "# Remove outliers from the data\n",
    "df = df[df['region_code'] < region_code_std]"
   ]
  },
  {
   "cell_type": "code",
   "execution_count": 35,
   "metadata": {},
   "outputs": [],
   "source": [
    "# Guess I'm just going to leave it as continuous data for now."
   ]
  },
  {
   "cell_type": "markdown",
   "metadata": {},
   "source": [
    "Feature: 'district_code'"
   ]
  },
  {
   "cell_type": "code",
   "execution_count": 36,
   "metadata": {},
   "outputs": [
    {
     "data": {
      "text/plain": [
       "array([ 5,  2,  4,  1,  8,  3,  6, 43,  7, 30, 33, 53,  0, 80, 60])"
      ]
     },
     "execution_count": 36,
     "metadata": {},
     "output_type": "execute_result"
    }
   ],
   "source": [
    "# According to Wikipedia there are 169 different districts in Tanzania\n",
    "df.district_code.unique()"
   ]
  },
  {
   "cell_type": "code",
   "execution_count": 37,
   "metadata": {},
   "outputs": [
    {
     "data": {
      "text/plain": [
       "<matplotlib.axes._subplots.AxesSubplot at 0x11251f080>"
      ]
     },
     "execution_count": 37,
     "metadata": {},
     "output_type": "execute_result"
    },
    {
     "data": {
      "image/png": "[encoded data removed]",
      "text/plain": [
       "<Figure size 432x288 with 1 Axes>"
      ]
     },
     "metadata": {
      "needs_background": "light"
     },
     "output_type": "display_data"
    }
   ],
   "source": [
    "df.district_code.hist()"
   ]
  },
  {
   "cell_type": "code",
   "execution_count": 38,
   "metadata": {},
   "outputs": [
    {
     "data": {
      "text/plain": [
       "<matplotlib.axes._subplots.AxesSubplot at 0x112543ba8>"
      ]
     },
     "execution_count": 38,
     "metadata": {},
     "output_type": "execute_result"
    },
    {
     "data": {
      "image/png": "[encoded data removed]",
      "text/plain": [
       "<Figure size 432x288 with 1 Axes>"
      ]
     },
     "metadata": {
      "needs_background": "light"
     },
     "output_type": "display_data"
    }
   ],
   "source": [
    "# The majority of data is in the districts below district 10\n",
    "districts = df[df.district_code <= 10]\n",
    "districts.district_code.hist()"
   ]
  },
  {
   "cell_type": "code",
   "execution_count": 39,
   "metadata": {},
   "outputs": [
    {
     "name": "stdout",
     "output_type": "stream",
     "text": [
      "Number of outliers: 1737\n"
     ]
    }
   ],
   "source": [
    "# Look for three standard deviations above the mean\n",
    "district_code_std = df.district_code.mean() + df.district_code.std()*3\n",
    "# Count how many rows are outliers\n",
    "print(\"Number of outliers:\", df.district_code[df['district_code'] > district_code_std].count())\n",
    "# Remove outliers from the data\n",
    "df = df[df['district_code'] < district_code_std]"
   ]
  },
  {
   "cell_type": "markdown",
   "metadata": {},
   "source": [
    "Feature: 'population'"
   ]
  },
  {
   "cell_type": "code",
   "execution_count": 40,
   "metadata": {},
   "outputs": [
    {
     "name": "stdout",
     "output_type": "stream",
     "text": [
      "Data equal to zero: 18854\n",
      "Percent of total: 0.365012680773624\n"
     ]
    }
   ],
   "source": [
    "# About 30% of the data points are zero.\n",
    "print('Data equal to zero:', df.population[df['population'] == 0].count())\n",
    "print('Percent of total:', df.population[df['population'] == 0].count()/len(df))"
   ]
  },
  {
   "cell_type": "code",
   "execution_count": 41,
   "metadata": {},
   "outputs": [
    {
     "data": {
      "text/plain": [
       "8932736"
      ]
     },
     "execution_count": 41,
     "metadata": {},
     "output_type": "execute_result"
    }
   ],
   "source": [
    "# The total population is about 17% of the Tanzanian population\n",
    "df.population.sum()"
   ]
  },
  {
   "cell_type": "code",
   "execution_count": 42,
   "metadata": {},
   "outputs": [
    {
     "data": {
      "text/plain": [
       "172.93740925018875"
      ]
     },
     "execution_count": 42,
     "metadata": {},
     "output_type": "execute_result"
    }
   ],
   "source": [
    "# Thinking about using the mean to fill in the zeros\n",
    "df.population.mean()"
   ]
  },
  {
   "cell_type": "code",
   "execution_count": 43,
   "metadata": {},
   "outputs": [
    {
     "data": {
      "text/plain": [
       "25.0"
      ]
     },
     "execution_count": 43,
     "metadata": {},
     "output_type": "execute_result"
    }
   ],
   "source": [
    "# But the median seems really low\n",
    "df.population.median()"
   ]
  },
  {
   "cell_type": "code",
   "execution_count": 44,
   "metadata": {},
   "outputs": [
    {
     "data": {
      "text/plain": [
       "count    51653.000000\n",
       "mean       182.062726\n",
       "std        445.133149\n",
       "min          1.000000\n",
       "25%         25.000000\n",
       "50%         25.000000\n",
       "75%        204.000000\n",
       "max      30500.000000\n",
       "Name: population, dtype: float64"
      ]
     },
     "execution_count": 44,
     "metadata": {},
     "output_type": "execute_result"
    }
   ],
   "source": [
    "# Replace the zeros with the median\n",
    "df.population.replace(0,df.population.median(axis=0),inplace=True)\n",
    "df.population.describe()"
   ]
  },
  {
   "cell_type": "code",
   "execution_count": 45,
   "metadata": {},
   "outputs": [
    {
     "name": "stdout",
     "output_type": "stream",
     "text": [
      "1517.4621736762758\n",
      "578\n"
     ]
    }
   ],
   "source": [
    "# Look for three standard deviations above the mean\n",
    "population_std = df.population.mean() + df.population.std()*3\n",
    "print(population_std)\n",
    "# Count how many rows are outliers\n",
    "print(df.population[df['population'] > population_std].count())\n",
    "# Remove outliers from the data\n",
    "df = df[df['population'] < population_std]"
   ]
  },
  {
   "cell_type": "markdown",
   "metadata": {},
   "source": [
    "Feature: 'construction_year'"
   ]
  },
  {
   "cell_type": "code",
   "execution_count": 46,
   "metadata": {},
   "outputs": [
    {
     "name": "stdout",
     "output_type": "stream",
     "text": [
      "Data equal to zero: 17863\n",
      "Percent of total: 0.3497405775819873\n"
     ]
    }
   ],
   "source": [
    "# Lots of zeros entered for the contruction year\n",
    "print('Data equal to zero:', df.construction_year[df['construction_year'] == 0\n",
    "                                                 ].count())\n",
    "print('Percent of total:', df.construction_year[df['construction_year'] == 0\n",
    "                                               ].count()/len(df))"
   ]
  },
  {
   "cell_type": "code",
   "execution_count": 47,
   "metadata": {},
   "outputs": [
    {
     "name": "stdout",
     "output_type": "stream",
     "text": [
      "count    33212.000000\n",
      "mean      1996.689811\n",
      "std         12.439892\n",
      "min       1960.000000\n",
      "25%       1988.000000\n",
      "50%       2000.000000\n",
      "75%       2008.000000\n",
      "max       2013.000000\n",
      "Name: construction_year, dtype: float64\n"
     ]
    }
   ],
   "source": [
    "# The mean construction year without the zeros!\n",
    "year = df[df['construction_year'] != 0]\n",
    "print(year['construction_year'].describe())"
   ]
  },
  {
   "cell_type": "code",
   "execution_count": 48,
   "metadata": {},
   "outputs": [
    {
     "data": {
      "text/plain": [
       "<matplotlib.axes._subplots.AxesSubplot at 0x1a1a95f908>"
      ]
     },
     "execution_count": 48,
     "metadata": {},
     "output_type": "execute_result"
    },
    {
     "data": {
      "image/png": "[encoded data removed]",
      "text/plain": [
       "<Figure size 432x288 with 1 Axes>"
      ]
     },
     "metadata": {
      "needs_background": "light"
     },
     "output_type": "display_data"
    }
   ],
   "source": [
    "# Trying to get a sense of the average age of the waterpoints \n",
    "year.construction_year.hist(bins=20)"
   ]
  },
  {
   "cell_type": "code",
   "execution_count": 49,
   "metadata": {},
   "outputs": [
    {
     "data": {
      "text/plain": [
       "12773"
      ]
     },
     "execution_count": 49,
     "metadata": {},
     "output_type": "execute_result"
    }
   ],
   "source": [
    "# Number of waterpoints below the mean construction year\n",
    "year.construction_year[year.construction_year < 1996].count()"
   ]
  },
  {
   "cell_type": "code",
   "execution_count": 50,
   "metadata": {},
   "outputs": [],
   "source": [
    "# Create bins for 'year' based on the values observed. 3 values will result in 2 bins\n",
    "bins_construct = [1960, 1987, 2000, 2014]\n",
    "year_bins = pd.cut(year['construction_year'], bins_construct)\n",
    "year_bins = year_bins.cat.as_ordered()"
   ]
  },
  {
   "cell_type": "code",
   "execution_count": 51,
   "metadata": {},
   "outputs": [
    {
     "data": {
      "image/png": "[encoded data removed]",
      "text/plain": [
       "<Figure size 432x288 with 1 Axes>"
      ]
     },
     "metadata": {
      "needs_background": "light"
     },
     "output_type": "display_data"
    }
   ],
   "source": [
    "# Bar graph showing known construction years - binned by approximate quartile\n",
    "year_bins.value_counts().plot(kind='bar')\n",
    "plt.xlabel('Waterpoint Binned by Year', fontsize=16)\n",
    "plt.ylabel('Number of WaterPoints', fontsize=16)\n",
    "plt.title(\"Binned Construction Year\", fontsize=20)\n",
    "plt.xticks(rotation=50)\n",
    "plt.show()"
   ]
  },
  {
   "cell_type": "code",
   "execution_count": 52,
   "metadata": {},
   "outputs": [],
   "source": [
    "# Create bins for 'construction-year based on the values observed. 3 values will result in 2 bins\n",
    "bins_years = [-1, 1960, 1987, 2000, 2014]\n",
    "const_year_bins = pd.cut(df['construction_year'], bins_years)\n",
    "const_year_bins = const_year_bins.cat.as_ordered()\n",
    "\n",
    "sqft_basement_dummy = pd.get_dummies(const_year_bins, prefix=\"year\", \n",
    "                                     drop_first=True)\n",
    "df = df.drop([\"construction_year\"], axis=1)\n",
    "df = pd.concat([df, sqft_basement_dummy], axis=1)"
   ]
  },
  {
   "cell_type": "code",
   "execution_count": 53,
   "metadata": {},
   "outputs": [
    {
     "data": {
      "text/plain": [
       "0    (1987, 2000]\n",
       "1    (2000, 2014]\n",
       "2    (2000, 2014]\n",
       "4      (-1, 1960]\n",
       "5    (2000, 2014]\n",
       "Name: construction_year, dtype: category\n",
       "Categories (4, interval[int64]): [(-1, 1960] < (1960, 1987] < (1987, 2000] < (2000, 2014]]"
      ]
     },
     "execution_count": 53,
     "metadata": {},
     "output_type": "execute_result"
    }
   ],
   "source": [
    "# Confirm the binned years\n",
    "const_year_bins.head()"
   ]
  },
  {
   "cell_type": "code",
   "execution_count": 54,
   "metadata": {},
   "outputs": [
    {
     "data": {
      "text/plain": [
       "(-1, 1960]      17952\n",
       "(2000, 2014]    15450\n",
       "(1987, 2000]     9543\n",
       "(1960, 1987]     8130\n",
       "Name: construction_year, dtype: int64"
      ]
     },
     "execution_count": 54,
     "metadata": {},
     "output_type": "execute_result"
    }
   ],
   "source": [
    "# Look at number of waterpoints in each bin\n",
    "const_year_bins.value_counts()"
   ]
  },
  {
   "cell_type": "code",
   "execution_count": 55,
   "metadata": {},
   "outputs": [
    {
     "data": {
      "text/plain": [
       "<matplotlib.axes._subplots.AxesSubplot at 0x1a181f0a20>"
      ]
     },
     "execution_count": 55,
     "metadata": {},
     "output_type": "execute_result"
    },
    {
     "data": {
      "image/png": "[encoded data removed]",
      "text/plain": [
       "<Figure size 432x288 with 1 Axes>"
      ]
     },
     "metadata": {
      "needs_background": "light"
     },
     "output_type": "display_data"
    }
   ],
   "source": [
    "# Visualization of construction year bins with zeros included\n",
    "const_year_bins.value_counts().plot(kind='bar')"
   ]
  },
  {
   "cell_type": "code",
   "execution_count": 56,
   "metadata": {},
   "outputs": [
    {
     "data": {
      "text/html": [
       "<div>\n",
       "<style scoped>\n",
       "    .dataframe tbody tr th:only-of-type {\n",
       "        vertical-align: middle;\n",
       "    }\n",
       "\n",
       "    .dataframe tbody tr th {\n",
       "        vertical-align: top;\n",
       "    }\n",
       "\n",
       "    .dataframe thead th {\n",
       "        text-align: right;\n",
       "    }\n",
       "</style>\n",
       "<table border=\"1\" class=\"dataframe\">\n",
       "  <thead>\n",
       "    <tr style=\"text-align: right;\">\n",
       "      <th></th>\n",
       "      <th>gps_height</th>\n",
       "      <th>longitude</th>\n",
       "      <th>latitude</th>\n",
       "      <th>num_private</th>\n",
       "      <th>region_code</th>\n",
       "      <th>district_code</th>\n",
       "      <th>population</th>\n",
       "      <th>status_group</th>\n",
       "      <th>tsh_(1, 9001]</th>\n",
       "      <th>year_(1960, 1987]</th>\n",
       "      <th>year_(1987, 2000]</th>\n",
       "      <th>year_(2000, 2014]</th>\n",
       "    </tr>\n",
       "  </thead>\n",
       "  <tbody>\n",
       "    <tr>\n",
       "      <th>count</th>\n",
       "      <td>51075.000000</td>\n",
       "      <td>51075.000000</td>\n",
       "      <td>51075.000000</td>\n",
       "      <td>51075.000000</td>\n",
       "      <td>51075.000000</td>\n",
       "      <td>51075.000000</td>\n",
       "      <td>51075.000000</td>\n",
       "      <td>51075.000000</td>\n",
       "      <td>51075.000000</td>\n",
       "      <td>51075.000000</td>\n",
       "      <td>51075.000000</td>\n",
       "      <td>51075.000000</td>\n",
       "    </tr>\n",
       "    <tr>\n",
       "      <th>mean</th>\n",
       "      <td>733.840470</td>\n",
       "      <td>34.842112</td>\n",
       "      <td>-5.685787</td>\n",
       "      <td>0.097993</td>\n",
       "      <td>10.879648</td>\n",
       "      <td>3.290866</td>\n",
       "      <td>148.346823</td>\n",
       "      <td>0.693059</td>\n",
       "      <td>0.296270</td>\n",
       "      <td>0.159178</td>\n",
       "      <td>0.186843</td>\n",
       "      <td>0.302496</td>\n",
       "    </tr>\n",
       "    <tr>\n",
       "      <th>std</th>\n",
       "      <td>700.752621</td>\n",
       "      <td>2.387656</td>\n",
       "      <td>2.735924</td>\n",
       "      <td>1.377509</td>\n",
       "      <td>6.060029</td>\n",
       "      <td>1.887852</td>\n",
       "      <td>222.857399</td>\n",
       "      <td>0.593874</td>\n",
       "      <td>0.456616</td>\n",
       "      <td>0.365845</td>\n",
       "      <td>0.389789</td>\n",
       "      <td>0.459343</td>\n",
       "    </tr>\n",
       "    <tr>\n",
       "      <th>min</th>\n",
       "      <td>0.000000</td>\n",
       "      <td>29.607122</td>\n",
       "      <td>-11.649440</td>\n",
       "      <td>0.000000</td>\n",
       "      <td>1.000000</td>\n",
       "      <td>0.000000</td>\n",
       "      <td>1.000000</td>\n",
       "      <td>0.000000</td>\n",
       "      <td>0.000000</td>\n",
       "      <td>0.000000</td>\n",
       "      <td>0.000000</td>\n",
       "      <td>0.000000</td>\n",
       "    </tr>\n",
       "    <tr>\n",
       "      <th>25%</th>\n",
       "      <td>0.000000</td>\n",
       "      <td>33.169067</td>\n",
       "      <td>-8.340612</td>\n",
       "      <td>0.000000</td>\n",
       "      <td>5.000000</td>\n",
       "      <td>2.000000</td>\n",
       "      <td>25.000000</td>\n",
       "      <td>0.000000</td>\n",
       "      <td>0.000000</td>\n",
       "      <td>0.000000</td>\n",
       "      <td>0.000000</td>\n",
       "      <td>0.000000</td>\n",
       "    </tr>\n",
       "    <tr>\n",
       "      <th>50%</th>\n",
       "      <td>654.000000</td>\n",
       "      <td>34.780019</td>\n",
       "      <td>-4.902211</td>\n",
       "      <td>0.000000</td>\n",
       "      <td>11.000000</td>\n",
       "      <td>3.000000</td>\n",
       "      <td>25.000000</td>\n",
       "      <td>1.000000</td>\n",
       "      <td>0.000000</td>\n",
       "      <td>0.000000</td>\n",
       "      <td>0.000000</td>\n",
       "      <td>0.000000</td>\n",
       "    </tr>\n",
       "    <tr>\n",
       "      <th>75%</th>\n",
       "      <td>1364.000000</td>\n",
       "      <td>36.858891</td>\n",
       "      <td>-3.350677</td>\n",
       "      <td>0.000000</td>\n",
       "      <td>16.000000</td>\n",
       "      <td>4.000000</td>\n",
       "      <td>200.000000</td>\n",
       "      <td>1.000000</td>\n",
       "      <td>1.000000</td>\n",
       "      <td>0.000000</td>\n",
       "      <td>0.000000</td>\n",
       "      <td>1.000000</td>\n",
       "    </tr>\n",
       "    <tr>\n",
       "      <th>max</th>\n",
       "      <td>2628.000000</td>\n",
       "      <td>40.201750</td>\n",
       "      <td>-0.998464</td>\n",
       "      <td>38.000000</td>\n",
       "      <td>21.000000</td>\n",
       "      <td>8.000000</td>\n",
       "      <td>1510.000000</td>\n",
       "      <td>2.000000</td>\n",
       "      <td>1.000000</td>\n",
       "      <td>1.000000</td>\n",
       "      <td>1.000000</td>\n",
       "      <td>1.000000</td>\n",
       "    </tr>\n",
       "  </tbody>\n",
       "</table>\n",
       "</div>"
      ],
      "text/plain": [
       "         gps_height     longitude      latitude   num_private   region_code  \\\n",
       "count  51075.000000  51075.000000  51075.000000  51075.000000  51075.000000   \n",
       "mean     733.840470     34.842112     -5.685787      0.097993     10.879648   \n",
       "std      700.752621      2.387656      2.735924      1.377509      6.060029   \n",
       "min        0.000000     29.607122    -11.649440      0.000000      1.000000   \n",
       "25%        0.000000     33.169067     -8.340612      0.000000      5.000000   \n",
       "50%      654.000000     34.780019     -4.902211      0.000000     11.000000   \n",
       "75%     1364.000000     36.858891     -3.350677      0.000000     16.000000   \n",
       "max     2628.000000     40.201750     -0.998464     38.000000     21.000000   \n",
       "\n",
       "       district_code    population  status_group  tsh_(1, 9001]  \\\n",
       "count   51075.000000  51075.000000  51075.000000   51075.000000   \n",
       "mean        3.290866    148.346823      0.693059       0.296270   \n",
       "std         1.887852    222.857399      0.593874       0.456616   \n",
       "min         0.000000      1.000000      0.000000       0.000000   \n",
       "25%         2.000000     25.000000      0.000000       0.000000   \n",
       "50%         3.000000     25.000000      1.000000       0.000000   \n",
       "75%         4.000000    200.000000      1.000000       1.000000   \n",
       "max         8.000000   1510.000000      2.000000       1.000000   \n",
       "\n",
       "       year_(1960, 1987]  year_(1987, 2000]  year_(2000, 2014]  \n",
       "count       51075.000000       51075.000000       51075.000000  \n",
       "mean            0.159178           0.186843           0.302496  \n",
       "std             0.365845           0.389789           0.459343  \n",
       "min             0.000000           0.000000           0.000000  \n",
       "25%             0.000000           0.000000           0.000000  \n",
       "50%             0.000000           0.000000           0.000000  \n",
       "75%             0.000000           0.000000           1.000000  \n",
       "max             1.000000           1.000000           1.000000  "
      ]
     },
     "execution_count": 56,
     "metadata": {},
     "output_type": "execute_result"
    }
   ],
   "source": [
    "# Confirm bins in dataset\n",
    "df.describe()"
   ]
  },
  {
   "cell_type": "markdown",
   "metadata": {},
   "source": [
    "## Clean the Categorical features"
   ]
  },
  {
   "cell_type": "markdown",
   "metadata": {},
   "source": [
    "### Group (or delete) unique values to simplify categorical"
   ]
  },
  {
   "cell_type": "code",
   "execution_count": 57,
   "metadata": {},
   "outputs": [],
   "source": [
    "import warnings\n",
    "warnings.filterwarnings('ignore')"
   ]
  },
  {
   "cell_type": "code",
   "execution_count": 58,
   "metadata": {},
   "outputs": [
    {
     "data": {
      "text/plain": [
       "date_recorded                0\n",
       "funder                    3451\n",
       "gps_height                   0\n",
       "installer                 3460\n",
       "longitude                    0\n",
       "latitude                     0\n",
       "wpt_name                     0\n",
       "num_private                  0\n",
       "basin                        0\n",
       "subvillage                 371\n",
       "region                       0\n",
       "region_code                  0\n",
       "district_code                0\n",
       "lga                          0\n",
       "ward                         0\n",
       "population                   0\n",
       "public_meeting            2697\n",
       "recorded_by                  0\n",
       "scheme_management         3076\n",
       "scheme_name              22883\n",
       "permit                    2992\n",
       "extraction_type              0\n",
       "extraction_type_group        0\n",
       "extraction_type_class        0\n",
       "management                   0\n",
       "management_group             0\n",
       "payment                      0\n",
       "payment_type                 0\n",
       "water_quality                0\n",
       "quality_group                0\n",
       "quantity                     0\n",
       "quantity_group               0\n",
       "source                       0\n",
       "source_type                  0\n",
       "source_class                 0\n",
       "waterpoint_type              0\n",
       "waterpoint_type_group        0\n",
       "status_group                 0\n",
       "tsh_(1, 9001]                0\n",
       "year_(1960, 1987]            0\n",
       "year_(1987, 2000]            0\n",
       "year_(2000, 2014]            0\n",
       "dtype: int64"
      ]
     },
     "execution_count": 58,
     "metadata": {},
     "output_type": "execute_result"
    }
   ],
   "source": [
    "# Check for missing data - still a lot!\n",
    "df.isnull().sum()"
   ]
  },
  {
   "cell_type": "markdown",
   "metadata": {},
   "source": [
    "Feature: 'date_recorded'"
   ]
  },
  {
   "cell_type": "code",
   "execution_count": 59,
   "metadata": {},
   "outputs": [
    {
     "data": {
      "text/plain": [
       "count          51075\n",
       "unique           352\n",
       "top       2011-03-15\n",
       "freq             569\n",
       "Name: date_recorded, dtype: object"
      ]
     },
     "execution_count": 59,
     "metadata": {},
     "output_type": "execute_result"
    }
   ],
   "source": [
    "# Seems like an unimportant feature with a whole year of unique values\n",
    "df.date_recorded.describe()"
   ]
  },
  {
   "cell_type": "code",
   "execution_count": 60,
   "metadata": {},
   "outputs": [
    {
     "data": {
      "text/plain": [
       "0    2011-03-14\n",
       "1    2013-03-06\n",
       "2    2013-02-25\n",
       "4    2011-07-13\n",
       "5    2011-03-13\n",
       "Name: date_recorded, dtype: object"
      ]
     },
     "execution_count": 60,
     "metadata": {},
     "output_type": "execute_result"
    }
   ],
   "source": [
    "# This is the before\n",
    "df.date_recorded.head()"
   ]
  },
  {
   "cell_type": "code",
   "execution_count": 61,
   "metadata": {},
   "outputs": [],
   "source": [
    "# Change dates to datetime\n",
    "df['date_recorded'] = pd.to_datetime(df['date_recorded'])\n",
    "df['date_recorded'] = df['date_recorded'].map(dt.datetime.toordinal)"
   ]
  },
  {
   "cell_type": "code",
   "execution_count": 62,
   "metadata": {},
   "outputs": [
    {
     "data": {
      "text/plain": [
       "0    734210\n",
       "1    734933\n",
       "2    734924\n",
       "4    734331\n",
       "5    734209\n",
       "Name: date_recorded, dtype: int64"
      ]
     },
     "execution_count": 62,
     "metadata": {},
     "output_type": "execute_result"
    }
   ],
   "source": [
    "# This is the after - I hope this doesn't cause an error!\n",
    "df.date_recorded.head()"
   ]
  },
  {
   "cell_type": "markdown",
   "metadata": {},
   "source": [
    "Feature: 'funder'"
   ]
  },
  {
   "cell_type": "code",
   "execution_count": 63,
   "metadata": {},
   "outputs": [
    {
     "data": {
      "text/plain": [
       "count                      47624\n",
       "unique                      1598\n",
       "top       Government Of Tanzania\n",
       "freq                        8187\n",
       "Name: funder, dtype: object"
      ]
     },
     "execution_count": 63,
     "metadata": {},
     "output_type": "execute_result"
    }
   ],
   "source": [
    "# Lots of unique items\n",
    "df.funder.describe()"
   ]
  },
  {
   "cell_type": "code",
   "execution_count": 64,
   "metadata": {},
   "outputs": [
    {
     "data": {
      "text/plain": [
       "3451"
      ]
     },
     "execution_count": 64,
     "metadata": {},
     "output_type": "execute_result"
    }
   ],
   "source": [
    "# Lots of unknown values\n",
    "df.funder.isna().sum()"
   ]
  },
  {
   "cell_type": "code",
   "execution_count": 65,
   "metadata": {},
   "outputs": [],
   "source": [
    "# The 'funder' feature will be dropped\n",
    "df = df.drop(columns=\"funder\", axis=1)"
   ]
  },
  {
   "cell_type": "markdown",
   "metadata": {},
   "source": [
    "Feature: 'installer'"
   ]
  },
  {
   "cell_type": "code",
   "execution_count": 66,
   "metadata": {},
   "outputs": [
    {
     "data": {
      "text/plain": [
       "count     47615\n",
       "unique     1806\n",
       "top         DWE\n",
       "freq      15256\n",
       "Name: installer, dtype: object"
      ]
     },
     "execution_count": 66,
     "metadata": {},
     "output_type": "execute_result"
    }
   ],
   "source": [
    "# Should be an important feature - in my opinion\n",
    "df.installer.describe()"
   ]
  },
  {
   "cell_type": "code",
   "execution_count": 67,
   "metadata": {},
   "outputs": [
    {
     "data": {
      "text/plain": [
       "3460"
      ]
     },
     "execution_count": 67,
     "metadata": {},
     "output_type": "execute_result"
    }
   ],
   "source": [
    "# Lots of unknown values\n",
    "df.installer.isna().sum()"
   ]
  },
  {
   "cell_type": "code",
   "execution_count": 68,
   "metadata": {},
   "outputs": [],
   "source": [
    "# 'installer' feature will be dropped - too many unique values\n",
    "df = df.drop(columns=\"installer\", axis=1)"
   ]
  },
  {
   "cell_type": "markdown",
   "metadata": {},
   "source": [
    "Feature: 'wpt_name'"
   ]
  },
  {
   "cell_type": "code",
   "execution_count": 69,
   "metadata": {},
   "outputs": [
    {
     "data": {
      "text/plain": [
       "count     51075\n",
       "unique    32677\n",
       "top        none\n",
       "freq       3427\n",
       "Name: wpt_name, dtype: object"
      ]
     },
     "execution_count": 69,
     "metadata": {},
     "output_type": "execute_result"
    }
   ],
   "source": [
    "# Even with any duplicated names all the rows should be unique\n",
    "df.wpt_name.describe()"
   ]
  },
  {
   "cell_type": "code",
   "execution_count": 70,
   "metadata": {},
   "outputs": [],
   "source": [
    "# 'wpt_name' feature will be dropped - irrelevant and too many unique\n",
    "df = df.drop(columns=\"wpt_name\", axis=1)"
   ]
  },
  {
   "cell_type": "markdown",
   "metadata": {},
   "source": [
    "Feature: 'basin'"
   ]
  },
  {
   "cell_type": "code",
   "execution_count": 71,
   "metadata": {},
   "outputs": [
    {
     "data": {
      "text/plain": [
       "count       51075\n",
       "unique          9\n",
       "top       Pangani\n",
       "freq         8469\n",
       "Name: basin, dtype: object"
      ]
     },
     "execution_count": 71,
     "metadata": {},
     "output_type": "execute_result"
    }
   ],
   "source": [
    "# Nine unique basins in Tanzania\n",
    "df.basin.describe()"
   ]
  },
  {
   "cell_type": "code",
   "execution_count": 72,
   "metadata": {},
   "outputs": [
    {
     "data": {
      "text/plain": [
       "Pangani                    8469\n",
       "Lake Victoria              7765\n",
       "Internal                   7352\n",
       "Rufiji                     7110\n",
       "Lake Tanganyika            6163\n",
       "Lake Nyasa                 5018\n",
       "Wami / Ruvu                4915\n",
       "Lake Rukwa                 2408\n",
       "Ruvuma / Southern Coast    1875\n",
       "Name: basin, dtype: int64"
      ]
     },
     "execution_count": 72,
     "metadata": {},
     "output_type": "execute_result"
    }
   ],
   "source": [
    "# Here are the basins\n",
    "df.basin.value_counts()"
   ]
  },
  {
   "cell_type": "code",
   "execution_count": 73,
   "metadata": {},
   "outputs": [
    {
     "data": {
      "text/html": [
       "<img src=\"https://www.researchgate.net/publication/312373453/figure/fig1/AS:471438105812994@1489411011502/Map-of-the-nine-River-Basin-Offices-in-Tanzania.png\" width=\"500\" height=\"400\"/>"
      ],
      "text/plain": [
       "<IPython.core.display.Image object>"
      ]
     },
     "execution_count": 73,
     "metadata": {},
     "output_type": "execute_result"
    }
   ],
   "source": [
    "# I viewed this map of the nine different waterbasin regions.\n",
    "from IPython.display import Image\n",
    "from IPython.core.display import HTML \n",
    "basin_url = (\"https://www.researchgate.net/publication/312373453/figure/fig\"+\n",
    "             \"1/AS:471438105812994@1489411011502/Map-of-the-nine-River-Basin-\"\n",
    "             +\"Offices-in-Tanzania.png\")\n",
    "Image(url=basin_url, width=500, height=400)"
   ]
  },
  {
   "cell_type": "code",
   "execution_count": 74,
   "metadata": {},
   "outputs": [
    {
     "data": {
      "image/png": "[encoded data removed]",
      "text/plain": [
       "<Figure size 432x288 with 1 Axes>"
      ]
     },
     "metadata": {
      "needs_background": "light"
     },
     "output_type": "display_data"
    }
   ],
   "source": [
    "# I also want to see how they look here (I tried to match the colors above).\n",
    "df.basin.value_counts().plot(kind='barh', color=tuple([\"yellow\",\"lightyellow\",\"brown\",\"lightgreen\",\"orange\",\"pink\",\"g\",\"violet\",\"purple\"]))\n",
    "plt.xlabel('Water Basin Region', fontsize=16)\n",
    "plt.ylabel('Number of WaterPoints', fontsize=16)\n",
    "plt.title(\"WaterPoints by Basin\", fontsize=20)\n",
    "plt.show()"
   ]
  },
  {
   "cell_type": "code",
   "execution_count": 75,
   "metadata": {},
   "outputs": [
    {
     "data": {
      "image/png": "[encoded data removed]",
      "text/plain": [
       "<Figure size 1152x288 with 1 Axes>"
      ]
     },
     "metadata": {
      "needs_background": "light"
     },
     "output_type": "display_data"
    }
   ],
   "source": [
    "# This bar graph shows the comparison of waterpoint status and basin\n",
    "plt.figure(figsize=(16,4))\n",
    "ax = sns.countplot(x=\"basin\", hue='status_group', data=df, palette='hot')\n",
    "plt.xlabel('Water Basin Region', fontsize=16)\n",
    "plt.ylabel('Number of WaterPoints', fontsize=16)\n",
    "plt.title(\"WaterPoint Status by Basin\", fontsize=20)\n",
    "labels = ['non-functioning', 'functioning', 'needs repair']\n",
    "plt.legend(labels)\n",
    "plt.show()"
   ]
  },
  {
   "cell_type": "code",
   "execution_count": 76,
   "metadata": {},
   "outputs": [],
   "source": [
    "# I plan to bin 'basin' later"
   ]
  },
  {
   "cell_type": "markdown",
   "metadata": {},
   "source": [
    "Feature: 'subvillage'"
   ]
  },
  {
   "cell_type": "code",
   "execution_count": 77,
   "metadata": {},
   "outputs": [
    {
     "data": {
      "text/plain": [
       "count       50704\n",
       "unique      16803\n",
       "top       Majengo\n",
       "freq          421\n",
       "Name: subvillage, dtype: object"
      ]
     },
     "execution_count": 77,
     "metadata": {},
     "output_type": "execute_result"
    }
   ],
   "source": [
    "# Too many unique items to bin\n",
    "df.subvillage.describe()"
   ]
  },
  {
   "cell_type": "code",
   "execution_count": 78,
   "metadata": {},
   "outputs": [
    {
     "data": {
      "text/plain": [
       "371"
      ]
     },
     "execution_count": 78,
     "metadata": {},
     "output_type": "execute_result"
    }
   ],
   "source": [
    "# Some unknown values\n",
    "df.subvillage.isna().sum()"
   ]
  },
  {
   "cell_type": "code",
   "execution_count": 79,
   "metadata": {},
   "outputs": [],
   "source": [
    "# The 'subvillage' feature will be dropped\n",
    "df = df.drop(columns=\"subvillage\", axis=1)"
   ]
  },
  {
   "cell_type": "markdown",
   "metadata": {},
   "source": [
    "Feature: 'region'"
   ]
  },
  {
   "cell_type": "code",
   "execution_count": 80,
   "metadata": {},
   "outputs": [
    {
     "data": {
      "text/plain": [
       "count      51075\n",
       "unique        21\n",
       "top       Iringa\n",
       "freq        5248\n",
       "Name: region, dtype: object"
      ]
     },
     "execution_count": 80,
     "metadata": {},
     "output_type": "execute_result"
    }
   ],
   "source": [
    "# We already have 'region_code' and there are too many unique items\n",
    "df.region.describe()"
   ]
  },
  {
   "cell_type": "code",
   "execution_count": 81,
   "metadata": {},
   "outputs": [],
   "source": [
    "# The 'region' feature will be dropped\n",
    "df = df.drop(columns='region', axis=1)"
   ]
  },
  {
   "cell_type": "markdown",
   "metadata": {},
   "source": [
    "Feature: 'lga'"
   ]
  },
  {
   "cell_type": "code",
   "execution_count": 82,
   "metadata": {},
   "outputs": [
    {
     "data": {
      "text/plain": [
       "count      51075\n",
       "unique       113\n",
       "top       Njombe\n",
       "freq        2477\n",
       "Name: lga, dtype: object"
      ]
     },
     "execution_count": 82,
     "metadata": {},
     "output_type": "execute_result"
    }
   ],
   "source": [
    "# Another location feature\n",
    "df.lga.describe()"
   ]
  },
  {
   "cell_type": "code",
   "execution_count": 83,
   "metadata": {},
   "outputs": [
    {
     "data": {
      "text/plain": [
       "0       Ludewa\n",
       "1    Serengeti\n",
       "2    Simanjiro\n",
       "4      Karagwe\n",
       "5       Mkinga\n",
       "Name: lga, dtype: object"
      ]
     },
     "execution_count": 83,
     "metadata": {},
     "output_type": "execute_result"
    }
   ],
   "source": [
    "# Tanzania-specific geographic indicator of where pump is located\n",
    "df.lga.head()"
   ]
  },
  {
   "cell_type": "code",
   "execution_count": 84,
   "metadata": {},
   "outputs": [],
   "source": [
    "# The 'lga' feature will be dropped - irrelevant and too many unique\n",
    "df = df.drop(columns=\"lga\", axis=1)"
   ]
  },
  {
   "cell_type": "markdown",
   "metadata": {},
   "source": [
    "Feature: 'ward'"
   ]
  },
  {
   "cell_type": "code",
   "execution_count": 85,
   "metadata": {},
   "outputs": [
    {
     "data": {
      "text/plain": [
       "count     51075\n",
       "unique     1823\n",
       "top       Igosi\n",
       "freq        307\n",
       "Name: ward, dtype: object"
      ]
     },
     "execution_count": 85,
     "metadata": {},
     "output_type": "execute_result"
    }
   ],
   "source": [
    "# Name of Tanzanian geographic ward where pump is located\n",
    "df.ward.describe()"
   ]
  },
  {
   "cell_type": "code",
   "execution_count": 86,
   "metadata": {},
   "outputs": [],
   "source": [
    "# The 'ward' feature will be dropped for similar reasons\n",
    "df = df.drop(columns=\"ward\", axis=1)"
   ]
  },
  {
   "cell_type": "markdown",
   "metadata": {},
   "source": [
    "Feature: 'public_meeting'"
   ]
  },
  {
   "cell_type": "code",
   "execution_count": 87,
   "metadata": {},
   "outputs": [
    {
     "data": {
      "text/plain": [
       "count     48378\n",
       "unique        2\n",
       "top        True\n",
       "freq      44130\n",
       "Name: public_meeting, dtype: object"
      ]
     },
     "execution_count": 87,
     "metadata": {},
     "output_type": "execute_result"
    }
   ],
   "source": [
    "# True/False indicator of public or not\n",
    "df.public_meeting.describe()"
   ]
  },
  {
   "cell_type": "code",
   "execution_count": 88,
   "metadata": {},
   "outputs": [
    {
     "data": {
      "text/plain": [
       "2697"
      ]
     },
     "execution_count": 88,
     "metadata": {},
     "output_type": "execute_result"
    }
   ],
   "source": [
    "# Column is missing some information\n",
    "df.public_meeting.isna().sum()"
   ]
  },
  {
   "cell_type": "code",
   "execution_count": 89,
   "metadata": {},
   "outputs": [
    {
     "data": {
      "text/plain": [
       "True     44130\n",
       "False     4248\n",
       "Name: public_meeting, dtype: int64"
      ]
     },
     "execution_count": 89,
     "metadata": {},
     "output_type": "execute_result"
    }
   ],
   "source": [
    "# Most of the values are True - which I assume means public\n",
    "df.public_meeting.value_counts()"
   ]
  },
  {
   "cell_type": "code",
   "execution_count": 90,
   "metadata": {},
   "outputs": [
    {
     "data": {
      "text/plain": [
       "0    True\n",
       "1     NaN\n",
       "2    True\n",
       "4    True\n",
       "5    True\n",
       "Name: public_meeting, dtype: object"
      ]
     },
     "execution_count": 90,
     "metadata": {},
     "output_type": "execute_result"
    }
   ],
   "source": [
    "# Almost 10% is NaN\n",
    "df.public_meeting.head()"
   ]
  },
  {
   "cell_type": "code",
   "execution_count": 91,
   "metadata": {},
   "outputs": [
    {
     "data": {
      "text/plain": [
       "0    True\n",
       "1    True\n",
       "2    True\n",
       "4    True\n",
       "5    True\n",
       "Name: public_meeting, dtype: bool"
      ]
     },
     "execution_count": 91,
     "metadata": {},
     "output_type": "execute_result"
    }
   ],
   "source": [
    "# Fill NaN's with the mean value of True\n",
    "df['public_meeting'].fillna(True, inplace = True)\n",
    "df.public_meeting.head()"
   ]
  },
  {
   "cell_type": "markdown",
   "metadata": {},
   "source": [
    "Feature: 'recorded_by'"
   ]
  },
  {
   "cell_type": "code",
   "execution_count": 92,
   "metadata": {},
   "outputs": [
    {
     "data": {
      "text/plain": [
       "count                       51075\n",
       "unique                          1\n",
       "top       GeoData Consultants Ltd\n",
       "freq                        51075\n",
       "Name: recorded_by, dtype: object"
      ]
     },
     "execution_count": 92,
     "metadata": {},
     "output_type": "execute_result"
    }
   ],
   "source": [
    "# Everything was recorded by the same person!\n",
    "df.recorded_by.describe()"
   ]
  },
  {
   "cell_type": "code",
   "execution_count": 93,
   "metadata": {},
   "outputs": [],
   "source": [
    "# The 'recorded_by' feature will be dropped - not useful\n",
    "df = df.drop(columns='recorded_by', axis=1)"
   ]
  },
  {
   "cell_type": "markdown",
   "metadata": {},
   "source": [
    "Feature: 'scheme_management'"
   ]
  },
  {
   "cell_type": "code",
   "execution_count": 94,
   "metadata": {},
   "outputs": [
    {
     "data": {
      "text/plain": [
       "count     47999\n",
       "unique       11\n",
       "top         VWC\n",
       "freq      31693\n",
       "Name: scheme_management, dtype: object"
      ]
     },
     "execution_count": 94,
     "metadata": {},
     "output_type": "execute_result"
    }
   ],
   "source": [
    "# Type of the organization responsible for management of pump\n",
    "df.scheme_management.describe()"
   ]
  },
  {
   "cell_type": "code",
   "execution_count": 95,
   "metadata": {},
   "outputs": [
    {
     "data": {
      "text/plain": [
       "VWC                 31693\n",
       "WUG                  4063\n",
       "Water authority      3004\n",
       "WUA                  2757\n",
       "Water Board          2704\n",
       "Parastatal           1474\n",
       "Company               841\n",
       "Private operator      726\n",
       "Other                 666\n",
       "Trust                  45\n",
       "SWC                    26\n",
       "Name: scheme_management, dtype: int64"
      ]
     },
     "execution_count": 95,
     "metadata": {},
     "output_type": "execute_result"
    }
   ],
   "source": [
    "# Too many types to bin\n",
    "df.scheme_management.value_counts()"
   ]
  },
  {
   "cell_type": "code",
   "execution_count": 96,
   "metadata": {},
   "outputs": [],
   "source": [
    "# The 'scheme_management' feature will be dropped\n",
    "df = df.drop(columns='scheme_management', axis=1)"
   ]
  },
  {
   "cell_type": "markdown",
   "metadata": {},
   "source": [
    "Feature: 'scheme_name'"
   ]
  },
  {
   "cell_type": "code",
   "execution_count": 97,
   "metadata": {},
   "outputs": [
    {
     "data": {
      "text/plain": [
       "count     28192\n",
       "unique     2348\n",
       "top           K\n",
       "freq        680\n",
       "Name: scheme_name, dtype: object"
      ]
     },
     "execution_count": 97,
     "metadata": {},
     "output_type": "execute_result"
    }
   ],
   "source": [
    "df.scheme_name.describe()"
   ]
  },
  {
   "cell_type": "code",
   "execution_count": 98,
   "metadata": {},
   "outputs": [
    {
     "data": {
      "text/plain": [
       "22883"
      ]
     },
     "execution_count": 98,
     "metadata": {},
     "output_type": "execute_result"
    }
   ],
   "source": [
    "# Column is missing almost half of the information\n",
    "df.scheme_name.isna().sum()"
   ]
  },
  {
   "cell_type": "code",
   "execution_count": 99,
   "metadata": {},
   "outputs": [],
   "source": [
    "# The 'scheme_name' feature will be dropped\n",
    "df = df.drop(columns='scheme_name', axis=1)"
   ]
  },
  {
   "cell_type": "markdown",
   "metadata": {},
   "source": [
    "Feature: 'permit'"
   ]
  },
  {
   "cell_type": "code",
   "execution_count": 100,
   "metadata": {},
   "outputs": [
    {
     "data": {
      "text/plain": [
       "count     48083\n",
       "unique        2\n",
       "top        True\n",
       "freq      34553\n",
       "Name: permit, dtype: object"
      ]
     },
     "execution_count": 100,
     "metadata": {},
     "output_type": "execute_result"
    }
   ],
   "source": [
    "# True or False values\n",
    "df.permit.describe()"
   ]
  },
  {
   "cell_type": "code",
   "execution_count": 101,
   "metadata": {},
   "outputs": [
    {
     "data": {
      "text/plain": [
       "True     34553\n",
       "False    13530\n",
       "Name: permit, dtype: int64"
      ]
     },
     "execution_count": 101,
     "metadata": {},
     "output_type": "execute_result"
    }
   ],
   "source": [
    "# Most of the values are True - which I assume means it has a permit\n",
    "df.permit.value_counts()"
   ]
  },
  {
   "cell_type": "code",
   "execution_count": 102,
   "metadata": {},
   "outputs": [
    {
     "data": {
      "text/plain": [
       "2992"
      ]
     },
     "execution_count": 102,
     "metadata": {},
     "output_type": "execute_result"
    }
   ],
   "source": [
    "# Column is missing some information\n",
    "df.permit.isna().sum()"
   ]
  },
  {
   "cell_type": "code",
   "execution_count": 103,
   "metadata": {},
   "outputs": [],
   "source": [
    "# Fill NaN's with the 'False' - either you have a permit or you don't!\n",
    "df['permit'].fillna(False, inplace = True)"
   ]
  },
  {
   "cell_type": "code",
   "execution_count": 104,
   "metadata": {},
   "outputs": [
    {
     "data": {
      "text/plain": [
       "date_recorded            0\n",
       "gps_height               0\n",
       "longitude                0\n",
       "latitude                 0\n",
       "num_private              0\n",
       "basin                    0\n",
       "region_code              0\n",
       "district_code            0\n",
       "population               0\n",
       "public_meeting           0\n",
       "permit                   0\n",
       "extraction_type          0\n",
       "extraction_type_group    0\n",
       "extraction_type_class    0\n",
       "management               0\n",
       "management_group         0\n",
       "payment                  0\n",
       "payment_type             0\n",
       "water_quality            0\n",
       "quality_group            0\n",
       "quantity                 0\n",
       "quantity_group           0\n",
       "source                   0\n",
       "source_type              0\n",
       "source_class             0\n",
       "waterpoint_type          0\n",
       "waterpoint_type_group    0\n",
       "status_group             0\n",
       "tsh_(1, 9001]            0\n",
       "year_(1960, 1987]        0\n",
       "year_(1987, 2000]        0\n",
       "year_(2000, 2014]        0\n",
       "dtype: int64"
      ]
     },
     "execution_count": 104,
     "metadata": {},
     "output_type": "execute_result"
    }
   ],
   "source": [
    "# No more missing information other than possible zeros!\n",
    "df.isnull().sum()"
   ]
  },
  {
   "cell_type": "markdown",
   "metadata": {},
   "source": [
    "Feature: 'extraction_type' & 'extraction_type_group'"
   ]
  },
  {
   "cell_type": "code",
   "execution_count": 105,
   "metadata": {},
   "outputs": [
    {
     "data": {
      "text/plain": [
       "count       51075\n",
       "unique         18\n",
       "top       gravity\n",
       "freq        24896\n",
       "Name: extraction_type, dtype: object"
      ]
     },
     "execution_count": 105,
     "metadata": {},
     "output_type": "execute_result"
    }
   ],
   "source": [
    "# Both features have overlapping and redundant items\n",
    "df.extraction_type.describe()"
   ]
  },
  {
   "cell_type": "code",
   "execution_count": 106,
   "metadata": {},
   "outputs": [],
   "source": [
    "# The 'extraction_type' & extraction_type_group' features will be dropped\n",
    "df = df.drop(columns=['extraction_type', 'extraction_type_group'], axis=1)"
   ]
  },
  {
   "cell_type": "markdown",
   "metadata": {},
   "source": [
    "Feature: 'extraction_type_class'"
   ]
  },
  {
   "cell_type": "code",
   "execution_count": 107,
   "metadata": {},
   "outputs": [
    {
     "data": {
      "text/plain": [
       "count       51075\n",
       "unique          7\n",
       "top       gravity\n",
       "freq        24896\n",
       "Name: extraction_type_class, dtype: object"
      ]
     },
     "execution_count": 107,
     "metadata": {},
     "output_type": "execute_result"
    }
   ],
   "source": [
    "# Aggregation of extraction_type_group categories\n",
    "df.extraction_type_class.describe()"
   ]
  },
  {
   "cell_type": "code",
   "execution_count": 108,
   "metadata": {},
   "outputs": [
    {
     "data": {
      "text/plain": [
       "gravity         24896\n",
       "handpump        13501\n",
       "other            5136\n",
       "submersible      4722\n",
       "motorpump        2299\n",
       "rope pump         417\n",
       "wind-powered      104\n",
       "Name: extraction_type_class, dtype: int64"
      ]
     },
     "execution_count": 108,
     "metadata": {},
     "output_type": "execute_result"
    }
   ],
   "source": [
    "# Seven different groups to bin - seems like a lot\n",
    "df.extraction_type_class.value_counts()"
   ]
  },
  {
   "cell_type": "code",
   "execution_count": 109,
   "metadata": {},
   "outputs": [
    {
     "data": {
      "text/plain": [
       "gravity        24896\n",
       "handpump       13501\n",
       "other           5657\n",
       "submersible     4722\n",
       "motorpump       2299\n",
       "Name: extraction_type_class, dtype: int64"
      ]
     },
     "execution_count": 109,
     "metadata": {},
     "output_type": "execute_result"
    }
   ],
   "source": [
    "# Group 'others' together\n",
    "df.extraction_type_class = df.extraction_type_class.replace(to_replace = \n",
    "                                                            ['rope pump', \n",
    "                                                             'wind-powered'], \n",
    "                                                            value = 'other')\n",
    "df.extraction_type_class.value_counts()"
   ]
  },
  {
   "cell_type": "code",
   "execution_count": 110,
   "metadata": {},
   "outputs": [
    {
     "data": {
      "image/png": "[encoded data removed]",
      "text/plain": [
       "<Figure size 720x288 with 1 Axes>"
      ]
     },
     "metadata": {
      "needs_background": "light"
     },
     "output_type": "display_data"
    }
   ],
   "source": [
    "# This bar graph shows the comparison of waterpoint status and basin\n",
    "plt.figure(figsize=(10,4))\n",
    "ax = sns.countplot(x=\"extraction_type_class\", hue='status_group', data=df, palette='hot_r')\n",
    "plt.xlabel('Extraction Type', fontsize=16)\n",
    "plt.ylabel('Number of WaterPoints', fontsize=16)\n",
    "plt.title(\"Status of Different Types of Waterpoints\", fontsize=20)\n",
    "labels = ['non-functioning', 'functioning', 'needs repair']\n",
    "plt.legend(labels)\n",
    "plt.show()\n"
   ]
  },
  {
   "cell_type": "code",
   "execution_count": 111,
   "metadata": {},
   "outputs": [],
   "source": [
    "# Looks like 'other' and 'motorpump' have the most non-functional\n",
    "# While 'gravity' and 'handpump' are the most functioning"
   ]
  },
  {
   "cell_type": "markdown",
   "metadata": {},
   "source": [
    "Feature: 'management'"
   ]
  },
  {
   "cell_type": "code",
   "execution_count": 112,
   "metadata": {},
   "outputs": [
    {
     "data": {
      "text/plain": [
       "count     51075\n",
       "unique       12\n",
       "top         vwc\n",
       "freq      34719\n",
       "Name: management, dtype: object"
      ]
     },
     "execution_count": 112,
     "metadata": {},
     "output_type": "execute_result"
    }
   ],
   "source": [
    "# Name of method employed for management of a given pump\n",
    "df.management.describe()"
   ]
  },
  {
   "cell_type": "code",
   "execution_count": 113,
   "metadata": {},
   "outputs": [],
   "source": [
    "# The 'management' feature will be dropped - too many unique\n",
    "df = df.drop(columns='management', axis=1)"
   ]
  },
  {
   "cell_type": "markdown",
   "metadata": {},
   "source": [
    "Feature: 'management_group'"
   ]
  },
  {
   "cell_type": "code",
   "execution_count": 114,
   "metadata": {},
   "outputs": [
    {
     "data": {
      "text/plain": [
       "user-group    45345\n",
       "commercial     2946\n",
       "parastatal     1525\n",
       "other           774\n",
       "unknown         485\n",
       "Name: management_group, dtype: int64"
      ]
     },
     "execution_count": 114,
     "metadata": {},
     "output_type": "execute_result"
    }
   ],
   "source": [
    "# Aggregation of management categories - 5 in all\n",
    "df.management_group.value_counts()"
   ]
  },
  {
   "cell_type": "code",
   "execution_count": 115,
   "metadata": {},
   "outputs": [
    {
     "data": {
      "text/plain": [
       "user-group    45345\n",
       "other          5730\n",
       "Name: management_group, dtype: int64"
      ]
     },
     "execution_count": 115,
     "metadata": {},
     "output_type": "execute_result"
    }
   ],
   "source": [
    "# Group 'unknowns' and 'other' together to reduce bins\n",
    "df.management_group = df.management_group.replace(to_replace = ['unknown', \n",
    "                                                'commercial', 'parastatal'],\n",
    "                                                value = 'other')\n",
    "df.management_group.value_counts()"
   ]
  },
  {
   "cell_type": "code",
   "execution_count": 116,
   "metadata": {},
   "outputs": [
    {
     "data": {
      "text/plain": [
       "<matplotlib.legend.Legend at 0x1a1db30b70>"
      ]
     },
     "execution_count": 116,
     "metadata": {},
     "output_type": "execute_result"
    },
    {
     "data": {
      "image/png": "[encoded data removed]",
      "text/plain": [
       "<Figure size 576x288 with 1 Axes>"
      ]
     },
     "metadata": {
      "needs_background": "light"
     },
     "output_type": "display_data"
    }
   ],
   "source": [
    "# This bar graph shows the comparison of user_groups - not much difference\n",
    "plt.figure(figsize=(8,4))\n",
    "ax = sns.countplot(x=\"management_group\", hue='status_group', data=df, palette='rocket')\n",
    "plt.legend()"
   ]
  },
  {
   "cell_type": "markdown",
   "metadata": {},
   "source": [
    "Feature: 'payment'"
   ]
  },
  {
   "cell_type": "code",
   "execution_count": 117,
   "metadata": {},
   "outputs": [
    {
     "data": {
      "text/plain": [
       "never pay                21397\n",
       "pay monthly               7861\n",
       "unknown                   6873\n",
       "pay per bucket            6827\n",
       "pay when scheme fails     3792\n",
       "pay annually              3480\n",
       "other                      845\n",
       "Name: payment, dtype: int64"
      ]
     },
     "execution_count": 117,
     "metadata": {},
     "output_type": "execute_result"
    }
   ],
   "source": [
    "# Categorical indicator of payment method required of pump users\n",
    "df.payment.value_counts()"
   ]
  },
  {
   "cell_type": "code",
   "execution_count": 118,
   "metadata": {},
   "outputs": [
    {
     "data": {
      "text/plain": [
       "<matplotlib.legend.Legend at 0x1020e3cf8>"
      ]
     },
     "execution_count": 118,
     "metadata": {},
     "output_type": "execute_result"
    },
    {
     "data": {
      "image/png": "[encoded data removed]",
      "text/plain": [
       "<Figure size 864x288 with 1 Axes>"
      ]
     },
     "metadata": {
      "needs_background": "light"
     },
     "output_type": "display_data"
    }
   ],
   "source": [
    "# This bar graph shows the comparison of payments\n",
    "plt.figure(figsize=(12,4))\n",
    "ax = sns.countplot(x=\"payment\", hue='status_group', data=df, palette='rocket_r')\n",
    "plt.legend()"
   ]
  },
  {
   "cell_type": "code",
   "execution_count": 119,
   "metadata": {},
   "outputs": [],
   "source": [
    "# 'never pay' and 'unknown' clearly are the worse, which makes sense"
   ]
  },
  {
   "cell_type": "code",
   "execution_count": 120,
   "metadata": {},
   "outputs": [
    {
     "data": {
      "text/plain": [
       "never pay                21397\n",
       "pay monthly               7861\n",
       "unknown                   7718\n",
       "pay per bucket            6827\n",
       "pay when scheme fails     3792\n",
       "pay annually              3480\n",
       "Name: payment, dtype: int64"
      ]
     },
     "execution_count": 120,
     "metadata": {},
     "output_type": "execute_result"
    }
   ],
   "source": [
    "# group 'unknowns' and 'other' together to reduce bins\n",
    "df.payment = df.payment.replace(to_replace = ['other'],\n",
    "                                              value = 'unknown')\n",
    "df.payment.value_counts()"
   ]
  },
  {
   "cell_type": "code",
   "execution_count": 121,
   "metadata": {},
   "outputs": [
    {
     "data": {
      "text/plain": [
       "<matplotlib.legend.Legend at 0x102dd34e0>"
      ]
     },
     "execution_count": 121,
     "metadata": {},
     "output_type": "execute_result"
    },
    {
     "data": {
      "image/png": "[encoded data removed]",
      "text/plain": [
       "<Figure size 720x288 with 1 Axes>"
      ]
     },
     "metadata": {
      "needs_background": "light"
     },
     "output_type": "display_data"
    }
   ],
   "source": [
    "# Visualize functioning and non-functioning\n",
    "plt.figure(figsize=(10,4))\n",
    "ax = sns.countplot(x=\"payment\", hue='status_group', data=df, palette='rocket')\n",
    "plt.legend()"
   ]
  },
  {
   "cell_type": "markdown",
   "metadata": {},
   "source": [
    "Feature: 'payment_type'"
   ]
  },
  {
   "cell_type": "code",
   "execution_count": 122,
   "metadata": {},
   "outputs": [
    {
     "data": {
      "text/plain": [
       "never pay     21397\n",
       "monthly        7861\n",
       "unknown        6873\n",
       "per bucket     6827\n",
       "on failure     3792\n",
       "annually       3480\n",
       "other           845\n",
       "Name: payment_type, dtype: int64"
      ]
     },
     "execution_count": 122,
     "metadata": {},
     "output_type": "execute_result"
    }
   ],
   "source": [
    "# Appears to be a duplicate of payment categories\n",
    "df.payment_type.value_counts()"
   ]
  },
  {
   "cell_type": "code",
   "execution_count": 123,
   "metadata": {},
   "outputs": [],
   "source": [
    "# The 'payment_type' feature will be dropped as redundant\n",
    "df = df.drop(columns='payment_type', axis=1)"
   ]
  },
  {
   "cell_type": "markdown",
   "metadata": {},
   "source": [
    "Feature: 'quality_group'"
   ]
  },
  {
   "cell_type": "code",
   "execution_count": 124,
   "metadata": {},
   "outputs": [
    {
     "data": {
      "text/plain": [
       "count     51075\n",
       "unique        6\n",
       "top        good\n",
       "freq      44306\n",
       "Name: quality_group, dtype: object"
      ]
     },
     "execution_count": 124,
     "metadata": {},
     "output_type": "execute_result"
    }
   ],
   "source": [
    "# Aggregation of water_quality categories - 6 unique\n",
    "df.quality_group.describe()"
   ]
  },
  {
   "cell_type": "code",
   "execution_count": 125,
   "metadata": {},
   "outputs": [
    {
     "data": {
      "text/plain": [
       "good        44306\n",
       "salty        3850\n",
       "unknown      1550\n",
       "milky         756\n",
       "colored       418\n",
       "fluoride      195\n",
       "Name: quality_group, dtype: int64"
      ]
     },
     "execution_count": 125,
     "metadata": {},
     "output_type": "execute_result"
    }
   ],
   "source": [
    "# A very small percentage are less than 'drinkable' water type\n",
    "df.quality_group.value_counts()"
   ]
  },
  {
   "cell_type": "code",
   "execution_count": 126,
   "metadata": {},
   "outputs": [
    {
     "data": {
      "text/plain": [
       "<matplotlib.legend.Legend at 0x1a1ee95a20>"
      ]
     },
     "execution_count": 126,
     "metadata": {},
     "output_type": "execute_result"
    },
    {
     "data": {
      "image/png": "[encoded data removed]",
      "text/plain": [
       "<Figure size 720x288 with 1 Axes>"
      ]
     },
     "metadata": {
      "needs_background": "light"
     },
     "output_type": "display_data"
    }
   ],
   "source": [
    "# Doesn't look like qualities are effecting much\n",
    "plt.figure(figsize=(10,4))\n",
    "ax = sns.countplot(x=\"quality_group\", hue='status_group', data=df, palette='Blues')\n",
    "plt.legend()"
   ]
  },
  {
   "cell_type": "code",
   "execution_count": 127,
   "metadata": {},
   "outputs": [],
   "source": [
    "# The 'quality_group' feature will be dropped as redundant\n",
    "df = df.drop(columns='quality_group', axis=1)"
   ]
  },
  {
   "cell_type": "markdown",
   "metadata": {},
   "source": [
    "Feature: 'water_quality'"
   ]
  },
  {
   "cell_type": "code",
   "execution_count": 128,
   "metadata": {},
   "outputs": [
    {
     "data": {
      "text/plain": [
       "count     51075\n",
       "unique        8\n",
       "top        soft\n",
       "freq      44306\n",
       "Name: water_quality, dtype: object"
      ]
     },
     "execution_count": 128,
     "metadata": {},
     "output_type": "execute_result"
    }
   ],
   "source": [
    "# Same as 'quality-group'\n",
    "df.water_quality.describe()"
   ]
  },
  {
   "cell_type": "code",
   "execution_count": 129,
   "metadata": {},
   "outputs": [
    {
     "data": {
      "text/plain": [
       "soft                  44306\n",
       "salty                  3647\n",
       "unknown                1550\n",
       "milky                   756\n",
       "coloured                418\n",
       "salty abandoned         203\n",
       "fluoride                184\n",
       "fluoride abandoned       11\n",
       "Name: water_quality, dtype: int64"
      ]
     },
     "execution_count": 129,
     "metadata": {},
     "output_type": "execute_result"
    }
   ],
   "source": [
    "# Lots of categories not doing much for the model\n",
    "df.water_quality.value_counts()"
   ]
  },
  {
   "cell_type": "code",
   "execution_count": 130,
   "metadata": {},
   "outputs": [
    {
     "data": {
      "text/plain": [
       "soft     44306\n",
       "other     6769\n",
       "Name: water_quality, dtype: int64"
      ]
     },
     "execution_count": 130,
     "metadata": {},
     "output_type": "execute_result"
    }
   ],
   "source": [
    "# Group all non-soft water as other\n",
    "df.water_quality = df.water_quality.replace(to_replace = ['salty', 'milky', 'unknown', \n",
    "                                            'fluoride', 'coloured','salty abandoned', \n",
    "                                            'fluoride abandoned'], \n",
    "                                                value = 'other')\n",
    "df.water_quality.value_counts()"
   ]
  },
  {
   "cell_type": "markdown",
   "metadata": {},
   "source": [
    "Feature: 'quantity'"
   ]
  },
  {
   "cell_type": "code",
   "execution_count": 131,
   "metadata": {},
   "outputs": [
    {
     "data": {
      "text/plain": [
       "enough          28433\n",
       "insufficient    13292\n",
       "dry              5040\n",
       "seasonal         3615\n",
       "unknown           695\n",
       "Name: quantity, dtype: int64"
      ]
     },
     "execution_count": 131,
     "metadata": {},
     "output_type": "execute_result"
    }
   ],
   "source": [
    "# Categorical indicator of water quantity produced by pump\n",
    "df.quantity.value_counts()"
   ]
  },
  {
   "cell_type": "code",
   "execution_count": 132,
   "metadata": {},
   "outputs": [
    {
     "data": {
      "text/plain": [
       "<matplotlib.legend.Legend at 0x1a1e9a2b00>"
      ]
     },
     "execution_count": 132,
     "metadata": {},
     "output_type": "execute_result"
    },
    {
     "data": {
      "image/png": "[encoded data removed]",
      "text/plain": [
       "<Figure size 720x288 with 1 Axes>"
      ]
     },
     "metadata": {
      "needs_background": "light"
     },
     "output_type": "display_data"
    }
   ],
   "source": [
    "# Doesn't look like quantities are effecting much - other than 'dry'\n",
    "plt.figure(figsize=(10,4))\n",
    "ax = sns.countplot(x=\"quantity\", hue='status_group', data=df, palette='cool')\n",
    "plt.legend()"
   ]
  },
  {
   "cell_type": "code",
   "execution_count": 133,
   "metadata": {},
   "outputs": [
    {
     "data": {
      "text/plain": [
       "enough          28433\n",
       "insufficient    22642\n",
       "Name: quantity, dtype: int64"
      ]
     },
     "execution_count": 133,
     "metadata": {},
     "output_type": "execute_result"
    }
   ],
   "source": [
    "# Group 'unknowns'\n",
    "df.quantity = df.quantity.replace(to_replace = ['unknown', 'dry', \n",
    "                                                        'seasonal'], \n",
    "                                                value = 'insufficient')\n",
    "df.quantity.value_counts()"
   ]
  },
  {
   "cell_type": "code",
   "execution_count": 134,
   "metadata": {},
   "outputs": [
    {
     "data": {
      "text/plain": [
       "<matplotlib.legend.Legend at 0x1a1bbe8358>"
      ]
     },
     "execution_count": 134,
     "metadata": {},
     "output_type": "execute_result"
    },
    {
     "data": {
      "image/png": "[encoded data removed]",
      "text/plain": [
       "<Figure size 576x288 with 1 Axes>"
      ]
     },
     "metadata": {
      "needs_background": "light"
     },
     "output_type": "display_data"
    }
   ],
   "source": [
    "# Quantities\n",
    "plt.figure(figsize=(8,4))\n",
    "ax = sns.countplot(x=\"quantity\", hue='status_group', data=df, palette='cool_r')\n",
    "plt.legend()"
   ]
  },
  {
   "cell_type": "code",
   "execution_count": 135,
   "metadata": {},
   "outputs": [],
   "source": [
    "# Dry wells and insufficient waterpoints seem to be more non-functioning"
   ]
  },
  {
   "cell_type": "markdown",
   "metadata": {},
   "source": [
    "Feature: 'source' and 'source_type'"
   ]
  },
  {
   "cell_type": "code",
   "execution_count": 136,
   "metadata": {},
   "outputs": [
    {
     "data": {
      "text/plain": [
       "count      51075\n",
       "unique        10\n",
       "top       spring\n",
       "freq       15750\n",
       "Name: source, dtype: object"
      ]
     },
     "execution_count": 136,
     "metadata": {},
     "output_type": "execute_result"
    }
   ],
   "source": [
    "# Type of source and type of the water for a given pump\n",
    "df.source.describe()"
   ]
  },
  {
   "cell_type": "code",
   "execution_count": 137,
   "metadata": {},
   "outputs": [],
   "source": [
    "# These features will be dropped as redundant\n",
    "df = df.drop(columns=['source', 'source_type'], axis=1)"
   ]
  },
  {
   "cell_type": "markdown",
   "metadata": {},
   "source": [
    "Feature: 'source_class'"
   ]
  },
  {
   "cell_type": "code",
   "execution_count": 138,
   "metadata": {},
   "outputs": [
    {
     "data": {
      "text/plain": [
       "count           51075\n",
       "unique              3\n",
       "top       groundwater\n",
       "freq            38833\n",
       "Name: source_class, dtype: object"
      ]
     },
     "execution_count": 138,
     "metadata": {},
     "output_type": "execute_result"
    }
   ],
   "source": [
    "# Aggregation of sources\n",
    "df.source_class.describe()"
   ]
  },
  {
   "cell_type": "code",
   "execution_count": 139,
   "metadata": {},
   "outputs": [
    {
     "data": {
      "text/plain": [
       "groundwater    38833\n",
       "surface        11992\n",
       "unknown          250\n",
       "Name: source_class, dtype: int64"
      ]
     },
     "execution_count": 139,
     "metadata": {},
     "output_type": "execute_result"
    }
   ],
   "source": [
    "# Most of the water comes from groundwater\n",
    "df.source_class.value_counts()"
   ]
  },
  {
   "cell_type": "code",
   "execution_count": 140,
   "metadata": {},
   "outputs": [
    {
     "data": {
      "text/plain": [
       "groundwater    39083\n",
       "surface        11992\n",
       "Name: source_class, dtype: int64"
      ]
     },
     "execution_count": 140,
     "metadata": {},
     "output_type": "execute_result"
    }
   ],
   "source": [
    "# Group 'unknowns' and 'groundwater' together\n",
    "df.source_class = df.source_class.replace(to_replace = 'unknown', \n",
    "                                                value = 'groundwater')\n",
    "df.source_class.value_counts()"
   ]
  },
  {
   "cell_type": "markdown",
   "metadata": {},
   "source": [
    "Feature: 'waterpoint_type_group'"
   ]
  },
  {
   "cell_type": "code",
   "execution_count": 141,
   "metadata": {},
   "outputs": [
    {
     "data": {
      "text/plain": [
       "count                  51075\n",
       "unique                     6\n",
       "top       communal standpipe\n",
       "freq                   30906\n",
       "Name: waterpoint_type_group, dtype: object"
      ]
     },
     "execution_count": 141,
     "metadata": {},
     "output_type": "execute_result"
    }
   ],
   "source": [
    "# Similar to waterpoint_type\n",
    "df.waterpoint_type_group.describe()"
   ]
  },
  {
   "cell_type": "code",
   "execution_count": 142,
   "metadata": {},
   "outputs": [],
   "source": [
    "# The 'waterpoint_type_group' will be dropped as redundant\n",
    "df = df.drop(columns='waterpoint_type_group', axis=1)"
   ]
  },
  {
   "cell_type": "markdown",
   "metadata": {},
   "source": [
    "Feature: 'waterpoint_type'"
   ]
  },
  {
   "cell_type": "code",
   "execution_count": 143,
   "metadata": {},
   "outputs": [
    {
     "data": {
      "text/plain": [
       "communal standpipe             26038\n",
       "hand pump                      14474\n",
       "communal standpipe multiple     4868\n",
       "other                           4831\n",
       "improved spring                  755\n",
       "cattle trough                    103\n",
       "dam                                6\n",
       "Name: waterpoint_type, dtype: int64"
      ]
     },
     "execution_count": 143,
     "metadata": {},
     "output_type": "execute_result"
    }
   ],
   "source": [
    "# The type of pump installed at a well site\n",
    "df.waterpoint_type.value_counts()"
   ]
  },
  {
   "cell_type": "code",
   "execution_count": 144,
   "metadata": {},
   "outputs": [
    {
     "data": {
      "text/plain": [
       "<matplotlib.legend.Legend at 0x1a193d9390>"
      ]
     },
     "execution_count": 144,
     "metadata": {},
     "output_type": "execute_result"
    },
    {
     "data": {
      "image/png": "[encoded data removed]",
      "text/plain": [
       "<Figure size 1008x288 with 1 Axes>"
      ]
     },
     "metadata": {
      "needs_background": "light"
     },
     "output_type": "display_data"
    }
   ],
   "source": [
    "# Looking at types of pumps\n",
    "plt.figure(figsize=(14,4))\n",
    "ax = sns.countplot(x=\"waterpoint_type\", hue='status_group', data=df, palette='coolwarm')\n",
    "plt.legend()"
   ]
  },
  {
   "cell_type": "code",
   "execution_count": 145,
   "metadata": {},
   "outputs": [
    {
     "data": {
      "text/plain": [
       "communal standpipe    30906\n",
       "hand pump             14474\n",
       "other                  4831\n",
       "improved spring         755\n",
       "cattle trough           103\n",
       "dam                       6\n",
       "Name: waterpoint_type, dtype: int64"
      ]
     },
     "execution_count": 145,
     "metadata": {},
     "output_type": "execute_result"
    }
   ],
   "source": [
    "# Group all 'standpipes'\n",
    "df.waterpoint_type = df.waterpoint_type.replace(to_replace = 'communal standpipe multiple', \n",
    "                                                value = 'communal standpipe')\n",
    "df.waterpoint_type.value_counts()"
   ]
  },
  {
   "cell_type": "code",
   "execution_count": 146,
   "metadata": {},
   "outputs": [
    {
     "data": {
      "text/plain": [
       "communal standpipe    30906\n",
       "hand pump             14474\n",
       "other                  5695\n",
       "Name: waterpoint_type, dtype: int64"
      ]
     },
     "execution_count": 146,
     "metadata": {},
     "output_type": "execute_result"
    }
   ],
   "source": [
    "# Group all 'other'\n",
    "df.waterpoint_type = df.waterpoint_type.replace(to_replace = ['improved spring',\n",
    "                                                   'cattle trough', 'dam'], \n",
    "                                                    value = 'other')\n",
    "df.waterpoint_type.value_counts()"
   ]
  },
  {
   "cell_type": "code",
   "execution_count": 147,
   "metadata": {},
   "outputs": [
    {
     "data": {
      "text/plain": [
       "<matplotlib.legend.Legend at 0x1a1edbfa58>"
      ]
     },
     "execution_count": 147,
     "metadata": {},
     "output_type": "execute_result"
    },
    {
     "data": {
      "image/png": "[encoded data removed]",
      "text/plain": [
       "<Figure size 720x288 with 1 Axes>"
      ]
     },
     "metadata": {
      "needs_background": "light"
     },
     "output_type": "display_data"
    }
   ],
   "source": [
    "# Standpipes and handpumps visual\n",
    "plt.figure(figsize=(10,4))\n",
    "ax = sns.countplot(x=\"waterpoint_type\", hue='status_group', data=df, palette='coolwarm_r')\n",
    "plt.legend()"
   ]
  },
  {
   "cell_type": "code",
   "execution_count": 148,
   "metadata": {},
   "outputs": [
    {
     "data": {
      "text/html": [
       "<div>\n",
       "<style scoped>\n",
       "    .dataframe tbody tr th:only-of-type {\n",
       "        vertical-align: middle;\n",
       "    }\n",
       "\n",
       "    .dataframe tbody tr th {\n",
       "        vertical-align: top;\n",
       "    }\n",
       "\n",
       "    .dataframe thead th {\n",
       "        text-align: right;\n",
       "    }\n",
       "</style>\n",
       "<table border=\"1\" class=\"dataframe\">\n",
       "  <thead>\n",
       "    <tr style=\"text-align: right;\">\n",
       "      <th></th>\n",
       "      <th>date_recorded</th>\n",
       "      <th>gps_height</th>\n",
       "      <th>longitude</th>\n",
       "      <th>latitude</th>\n",
       "      <th>num_private</th>\n",
       "      <th>basin</th>\n",
       "      <th>region_code</th>\n",
       "      <th>district_code</th>\n",
       "      <th>population</th>\n",
       "      <th>public_meeting</th>\n",
       "      <th>...</th>\n",
       "      <th>water_quality</th>\n",
       "      <th>quantity</th>\n",
       "      <th>quantity_group</th>\n",
       "      <th>source_class</th>\n",
       "      <th>waterpoint_type</th>\n",
       "      <th>status_group</th>\n",
       "      <th>tsh_(1, 9001]</th>\n",
       "      <th>year_(1960, 1987]</th>\n",
       "      <th>year_(1987, 2000]</th>\n",
       "      <th>year_(2000, 2014]</th>\n",
       "    </tr>\n",
       "  </thead>\n",
       "  <tbody>\n",
       "    <tr>\n",
       "      <th>0</th>\n",
       "      <td>734210</td>\n",
       "      <td>1390</td>\n",
       "      <td>34.938093</td>\n",
       "      <td>-9.856322</td>\n",
       "      <td>0</td>\n",
       "      <td>Lake Nyasa</td>\n",
       "      <td>11</td>\n",
       "      <td>5</td>\n",
       "      <td>109</td>\n",
       "      <td>True</td>\n",
       "      <td>...</td>\n",
       "      <td>soft</td>\n",
       "      <td>enough</td>\n",
       "      <td>enough</td>\n",
       "      <td>groundwater</td>\n",
       "      <td>communal standpipe</td>\n",
       "      <td>1</td>\n",
       "      <td>1</td>\n",
       "      <td>0</td>\n",
       "      <td>1</td>\n",
       "      <td>0</td>\n",
       "    </tr>\n",
       "    <tr>\n",
       "      <th>1</th>\n",
       "      <td>734933</td>\n",
       "      <td>1399</td>\n",
       "      <td>34.698766</td>\n",
       "      <td>-2.147466</td>\n",
       "      <td>0</td>\n",
       "      <td>Lake Victoria</td>\n",
       "      <td>20</td>\n",
       "      <td>2</td>\n",
       "      <td>280</td>\n",
       "      <td>True</td>\n",
       "      <td>...</td>\n",
       "      <td>soft</td>\n",
       "      <td>insufficient</td>\n",
       "      <td>insufficient</td>\n",
       "      <td>surface</td>\n",
       "      <td>communal standpipe</td>\n",
       "      <td>1</td>\n",
       "      <td>0</td>\n",
       "      <td>0</td>\n",
       "      <td>0</td>\n",
       "      <td>1</td>\n",
       "    </tr>\n",
       "    <tr>\n",
       "      <th>2</th>\n",
       "      <td>734924</td>\n",
       "      <td>686</td>\n",
       "      <td>37.460664</td>\n",
       "      <td>-3.821329</td>\n",
       "      <td>0</td>\n",
       "      <td>Pangani</td>\n",
       "      <td>21</td>\n",
       "      <td>4</td>\n",
       "      <td>250</td>\n",
       "      <td>True</td>\n",
       "      <td>...</td>\n",
       "      <td>soft</td>\n",
       "      <td>enough</td>\n",
       "      <td>enough</td>\n",
       "      <td>surface</td>\n",
       "      <td>communal standpipe</td>\n",
       "      <td>1</td>\n",
       "      <td>1</td>\n",
       "      <td>0</td>\n",
       "      <td>0</td>\n",
       "      <td>1</td>\n",
       "    </tr>\n",
       "    <tr>\n",
       "      <th>4</th>\n",
       "      <td>734331</td>\n",
       "      <td>0</td>\n",
       "      <td>31.130847</td>\n",
       "      <td>-1.825359</td>\n",
       "      <td>0</td>\n",
       "      <td>Lake Victoria</td>\n",
       "      <td>18</td>\n",
       "      <td>1</td>\n",
       "      <td>25</td>\n",
       "      <td>True</td>\n",
       "      <td>...</td>\n",
       "      <td>soft</td>\n",
       "      <td>insufficient</td>\n",
       "      <td>seasonal</td>\n",
       "      <td>surface</td>\n",
       "      <td>communal standpipe</td>\n",
       "      <td>1</td>\n",
       "      <td>0</td>\n",
       "      <td>0</td>\n",
       "      <td>0</td>\n",
       "      <td>0</td>\n",
       "    </tr>\n",
       "    <tr>\n",
       "      <th>5</th>\n",
       "      <td>734209</td>\n",
       "      <td>0</td>\n",
       "      <td>39.172796</td>\n",
       "      <td>-4.765587</td>\n",
       "      <td>0</td>\n",
       "      <td>Pangani</td>\n",
       "      <td>4</td>\n",
       "      <td>8</td>\n",
       "      <td>1</td>\n",
       "      <td>True</td>\n",
       "      <td>...</td>\n",
       "      <td>other</td>\n",
       "      <td>enough</td>\n",
       "      <td>enough</td>\n",
       "      <td>groundwater</td>\n",
       "      <td>communal standpipe</td>\n",
       "      <td>1</td>\n",
       "      <td>1</td>\n",
       "      <td>0</td>\n",
       "      <td>0</td>\n",
       "      <td>1</td>\n",
       "    </tr>\n",
       "  </tbody>\n",
       "</table>\n",
       "<p>5 rows × 24 columns</p>\n",
       "</div>"
      ],
      "text/plain": [
       "   date_recorded  gps_height  longitude  latitude  num_private          basin  \\\n",
       "0         734210        1390  34.938093 -9.856322            0     Lake Nyasa   \n",
       "1         734933        1399  34.698766 -2.147466            0  Lake Victoria   \n",
       "2         734924         686  37.460664 -3.821329            0        Pangani   \n",
       "4         734331           0  31.130847 -1.825359            0  Lake Victoria   \n",
       "5         734209           0  39.172796 -4.765587            0        Pangani   \n",
       "\n",
       "   region_code  district_code  population  public_meeting        ...          \\\n",
       "0           11              5         109            True        ...           \n",
       "1           20              2         280            True        ...           \n",
       "2           21              4         250            True        ...           \n",
       "4           18              1          25            True        ...           \n",
       "5            4              8           1            True        ...           \n",
       "\n",
       "   water_quality      quantity quantity_group source_class  \\\n",
       "0           soft        enough         enough  groundwater   \n",
       "1           soft  insufficient   insufficient      surface   \n",
       "2           soft        enough         enough      surface   \n",
       "4           soft  insufficient       seasonal      surface   \n",
       "5          other        enough         enough  groundwater   \n",
       "\n",
       "      waterpoint_type status_group tsh_(1, 9001] year_(1960, 1987]  \\\n",
       "0  communal standpipe            1             1                 0   \n",
       "1  communal standpipe            1             0                 0   \n",
       "2  communal standpipe            1             1                 0   \n",
       "4  communal standpipe            1             0                 0   \n",
       "5  communal standpipe            1             1                 0   \n",
       "\n",
       "  year_(1987, 2000]  year_(2000, 2014]  \n",
       "0                 1                  0  \n",
       "1                 0                  1  \n",
       "2                 0                  1  \n",
       "4                 0                  0  \n",
       "5                 0                  1  \n",
       "\n",
       "[5 rows x 24 columns]"
      ]
     },
     "execution_count": 148,
     "metadata": {},
     "output_type": "execute_result"
    }
   ],
   "source": [
    "# One last look at df\n",
    "df.head()"
   ]
  },
  {
   "cell_type": "markdown",
   "metadata": {},
   "source": [
    "## One Hot Encoding for Categorical"
   ]
  },
  {
   "cell_type": "code",
   "execution_count": 149,
   "metadata": {},
   "outputs": [],
   "source": [
    "# These are the object columns that need to be binned.\n",
    "col_to_dummies = ['basin', 'public_meeting', 'permit',\n",
    "       'extraction_type_class', 'management_group', 'payment', 'water_quality',\n",
    "       'quantity', 'source_class', 'waterpoint_type']"
   ]
  },
  {
   "cell_type": "code",
   "execution_count": 150,
   "metadata": {},
   "outputs": [],
   "source": [
    "# get_dummy variables and drop first (it is going to double my column count)\n",
    "df = pd.get_dummies(df, drop_first=True)"
   ]
  },
  {
   "cell_type": "code",
   "execution_count": 151,
   "metadata": {},
   "outputs": [
    {
     "data": {
      "text/html": [
       "<div>\n",
       "<style scoped>\n",
       "    .dataframe tbody tr th:only-of-type {\n",
       "        vertical-align: middle;\n",
       "    }\n",
       "\n",
       "    .dataframe tbody tr th {\n",
       "        vertical-align: top;\n",
       "    }\n",
       "\n",
       "    .dataframe thead th {\n",
       "        text-align: right;\n",
       "    }\n",
       "</style>\n",
       "<table border=\"1\" class=\"dataframe\">\n",
       "  <thead>\n",
       "    <tr style=\"text-align: right;\">\n",
       "      <th></th>\n",
       "      <th>date_recorded</th>\n",
       "      <th>gps_height</th>\n",
       "      <th>longitude</th>\n",
       "      <th>latitude</th>\n",
       "      <th>num_private</th>\n",
       "      <th>region_code</th>\n",
       "      <th>district_code</th>\n",
       "      <th>population</th>\n",
       "      <th>public_meeting</th>\n",
       "      <th>permit</th>\n",
       "      <th>...</th>\n",
       "      <th>payment_unknown</th>\n",
       "      <th>water_quality_soft</th>\n",
       "      <th>quantity_insufficient</th>\n",
       "      <th>quantity_group_enough</th>\n",
       "      <th>quantity_group_insufficient</th>\n",
       "      <th>quantity_group_seasonal</th>\n",
       "      <th>quantity_group_unknown</th>\n",
       "      <th>source_class_surface</th>\n",
       "      <th>waterpoint_type_hand pump</th>\n",
       "      <th>waterpoint_type_other</th>\n",
       "    </tr>\n",
       "  </thead>\n",
       "  <tbody>\n",
       "    <tr>\n",
       "      <th>0</th>\n",
       "      <td>734210</td>\n",
       "      <td>1390</td>\n",
       "      <td>34.938093</td>\n",
       "      <td>-9.856322</td>\n",
       "      <td>0</td>\n",
       "      <td>11</td>\n",
       "      <td>5</td>\n",
       "      <td>109</td>\n",
       "      <td>True</td>\n",
       "      <td>False</td>\n",
       "      <td>...</td>\n",
       "      <td>0</td>\n",
       "      <td>1</td>\n",
       "      <td>0</td>\n",
       "      <td>1</td>\n",
       "      <td>0</td>\n",
       "      <td>0</td>\n",
       "      <td>0</td>\n",
       "      <td>0</td>\n",
       "      <td>0</td>\n",
       "      <td>0</td>\n",
       "    </tr>\n",
       "    <tr>\n",
       "      <th>1</th>\n",
       "      <td>734933</td>\n",
       "      <td>1399</td>\n",
       "      <td>34.698766</td>\n",
       "      <td>-2.147466</td>\n",
       "      <td>0</td>\n",
       "      <td>20</td>\n",
       "      <td>2</td>\n",
       "      <td>280</td>\n",
       "      <td>True</td>\n",
       "      <td>True</td>\n",
       "      <td>...</td>\n",
       "      <td>0</td>\n",
       "      <td>1</td>\n",
       "      <td>1</td>\n",
       "      <td>0</td>\n",
       "      <td>1</td>\n",
       "      <td>0</td>\n",
       "      <td>0</td>\n",
       "      <td>1</td>\n",
       "      <td>0</td>\n",
       "      <td>0</td>\n",
       "    </tr>\n",
       "    <tr>\n",
       "      <th>2</th>\n",
       "      <td>734924</td>\n",
       "      <td>686</td>\n",
       "      <td>37.460664</td>\n",
       "      <td>-3.821329</td>\n",
       "      <td>0</td>\n",
       "      <td>21</td>\n",
       "      <td>4</td>\n",
       "      <td>250</td>\n",
       "      <td>True</td>\n",
       "      <td>True</td>\n",
       "      <td>...</td>\n",
       "      <td>0</td>\n",
       "      <td>1</td>\n",
       "      <td>0</td>\n",
       "      <td>1</td>\n",
       "      <td>0</td>\n",
       "      <td>0</td>\n",
       "      <td>0</td>\n",
       "      <td>1</td>\n",
       "      <td>0</td>\n",
       "      <td>0</td>\n",
       "    </tr>\n",
       "    <tr>\n",
       "      <th>4</th>\n",
       "      <td>734331</td>\n",
       "      <td>0</td>\n",
       "      <td>31.130847</td>\n",
       "      <td>-1.825359</td>\n",
       "      <td>0</td>\n",
       "      <td>18</td>\n",
       "      <td>1</td>\n",
       "      <td>25</td>\n",
       "      <td>True</td>\n",
       "      <td>True</td>\n",
       "      <td>...</td>\n",
       "      <td>0</td>\n",
       "      <td>1</td>\n",
       "      <td>1</td>\n",
       "      <td>0</td>\n",
       "      <td>0</td>\n",
       "      <td>1</td>\n",
       "      <td>0</td>\n",
       "      <td>1</td>\n",
       "      <td>0</td>\n",
       "      <td>0</td>\n",
       "    </tr>\n",
       "    <tr>\n",
       "      <th>5</th>\n",
       "      <td>734209</td>\n",
       "      <td>0</td>\n",
       "      <td>39.172796</td>\n",
       "      <td>-4.765587</td>\n",
       "      <td>0</td>\n",
       "      <td>4</td>\n",
       "      <td>8</td>\n",
       "      <td>1</td>\n",
       "      <td>True</td>\n",
       "      <td>True</td>\n",
       "      <td>...</td>\n",
       "      <td>0</td>\n",
       "      <td>0</td>\n",
       "      <td>0</td>\n",
       "      <td>1</td>\n",
       "      <td>0</td>\n",
       "      <td>0</td>\n",
       "      <td>0</td>\n",
       "      <td>0</td>\n",
       "      <td>0</td>\n",
       "      <td>0</td>\n",
       "    </tr>\n",
       "  </tbody>\n",
       "</table>\n",
       "<p>5 rows × 42 columns</p>\n",
       "</div>"
      ],
      "text/plain": [
       "   date_recorded  gps_height  longitude  latitude  num_private  region_code  \\\n",
       "0         734210        1390  34.938093 -9.856322            0           11   \n",
       "1         734933        1399  34.698766 -2.147466            0           20   \n",
       "2         734924         686  37.460664 -3.821329            0           21   \n",
       "4         734331           0  31.130847 -1.825359            0           18   \n",
       "5         734209           0  39.172796 -4.765587            0            4   \n",
       "\n",
       "   district_code  population  public_meeting  permit          ...            \\\n",
       "0              5         109            True   False          ...             \n",
       "1              2         280            True    True          ...             \n",
       "2              4         250            True    True          ...             \n",
       "4              1          25            True    True          ...             \n",
       "5              8           1            True    True          ...             \n",
       "\n",
       "   payment_unknown  water_quality_soft  quantity_insufficient  \\\n",
       "0                0                   1                      0   \n",
       "1                0                   1                      1   \n",
       "2                0                   1                      0   \n",
       "4                0                   1                      1   \n",
       "5                0                   0                      0   \n",
       "\n",
       "   quantity_group_enough  quantity_group_insufficient  \\\n",
       "0                      1                            0   \n",
       "1                      0                            1   \n",
       "2                      1                            0   \n",
       "4                      0                            0   \n",
       "5                      1                            0   \n",
       "\n",
       "   quantity_group_seasonal  quantity_group_unknown  source_class_surface  \\\n",
       "0                        0                       0                     0   \n",
       "1                        0                       0                     1   \n",
       "2                        0                       0                     1   \n",
       "4                        1                       0                     1   \n",
       "5                        0                       0                     0   \n",
       "\n",
       "   waterpoint_type_hand pump  waterpoint_type_other  \n",
       "0                          0                      0  \n",
       "1                          0                      0  \n",
       "2                          0                      0  \n",
       "4                          0                      0  \n",
       "5                          0                      0  \n",
       "\n",
       "[5 rows x 42 columns]"
      ]
     },
     "execution_count": 151,
     "metadata": {},
     "output_type": "execute_result"
    }
   ],
   "source": [
    "# new df head - 42 columns now!\n",
    "df.head()"
   ]
  },
  {
   "cell_type": "code",
   "execution_count": 152,
   "metadata": {},
   "outputs": [
    {
     "data": {
      "text/plain": [
       "Index(['date_recorded', 'gps_height', 'longitude', 'latitude', 'num_private',\n",
       "       'region_code', 'district_code', 'population', 'public_meeting',\n",
       "       'permit', 'status_group', 'tsh_(1, 9001]', 'year_(1960, 1987]',\n",
       "       'year_(1987, 2000]', 'year_(2000, 2014]', 'basin_Lake Nyasa',\n",
       "       'basin_Lake Rukwa', 'basin_Lake Tanganyika', 'basin_Lake Victoria',\n",
       "       'basin_Pangani', 'basin_Rufiji', 'basin_Ruvuma / Southern Coast',\n",
       "       'basin_Wami / Ruvu', 'extraction_type_class_handpump',\n",
       "       'extraction_type_class_motorpump', 'extraction_type_class_other',\n",
       "       'extraction_type_class_submersible', 'management_group_user-group',\n",
       "       'payment_pay annually', 'payment_pay monthly', 'payment_pay per bucket',\n",
       "       'payment_pay when scheme fails', 'payment_unknown',\n",
       "       'water_quality_soft', 'quantity_insufficient', 'quantity_group_enough',\n",
       "       'quantity_group_insufficient', 'quantity_group_seasonal',\n",
       "       'quantity_group_unknown', 'source_class_surface',\n",
       "       'waterpoint_type_hand pump', 'waterpoint_type_other'],\n",
       "      dtype='object')"
      ]
     },
     "execution_count": 152,
     "metadata": {},
     "output_type": "execute_result"
    }
   ],
   "source": [
    "# Double check that I have all the ones I want\n",
    "df.columns"
   ]
  },
  {
   "cell_type": "markdown",
   "metadata": {},
   "source": [
    "# Models"
   ]
  },
  {
   "cell_type": "code",
   "execution_count": 153,
   "metadata": {},
   "outputs": [],
   "source": [
    "# I plan to build at least three models: (Logarithmic, Random Forest, and XGBoost)"
   ]
  },
  {
   "cell_type": "markdown",
   "metadata": {},
   "source": [
    "## Train Test Split"
   ]
  },
  {
   "cell_type": "code",
   "execution_count": 154,
   "metadata": {},
   "outputs": [],
   "source": [
    "# Rename column names to simplify (and for XGBoost)\n",
    "df.rename(columns={'tsh_(1, 9001]':'amount',\n",
    "                    'year_(1960, 1987]':'old',\n",
    "                    'year_(1987, 2000]':'semi-old',\n",
    "                    'year_(2000, 2014]': 'new'}, \n",
    "                    inplace=True)"
   ]
  },
  {
   "cell_type": "code",
   "execution_count": 155,
   "metadata": {},
   "outputs": [],
   "source": [
    "# Three classes of independent target variable\n",
    "y = df.status_group"
   ]
  },
  {
   "cell_type": "code",
   "execution_count": 156,
   "metadata": {},
   "outputs": [],
   "source": [
    "# Drop target and set the dependent values variables \n",
    "X = df.drop('status_group', axis=1) "
   ]
  },
  {
   "cell_type": "code",
   "execution_count": 157,
   "metadata": {},
   "outputs": [],
   "source": [
    "# Split into training and test sets\n",
    "X_train, X_test, y_train, y_test = train_test_split(X, y, test_size=0.25, random_state=123)"
   ]
  },
  {
   "cell_type": "markdown",
   "metadata": {},
   "source": [
    "### Log Model"
   ]
  },
  {
   "cell_type": "code",
   "execution_count": 158,
   "metadata": {},
   "outputs": [
    {
     "name": "stdout",
     "output_type": "stream",
     "text": [
      "Log Training Accuracy: 71.82%\n",
      "Log Validation accuracy: 71.94%\n"
     ]
    }
   ],
   "source": [
    "# Log model\n",
    "log_clf = LogisticRegression(random_state=123, multi_class='multinomial', solver='newton-cg')\n",
    "log_model = log_clf.fit(X_train, y_train)\n",
    "\n",
    "log_training_preds = log_clf.predict(X_train)\n",
    "log_training_accuracy = accuracy_score(y_train, log_training_preds)\n",
    "\n",
    "log_val_preds = log_clf.predict(X_test) # y_hat\n",
    "log_val_accuracy = accuracy_score(y_test, log_val_preds)\n",
    "\n",
    "print(\"Log Training Accuracy: {:.4}%\".format(log_training_accuracy * 100))\n",
    "print(\"Log Validation accuracy: {:.4}%\".format(log_val_accuracy * 100))"
   ]
  },
  {
   "cell_type": "code",
   "execution_count": 159,
   "metadata": {},
   "outputs": [
    {
     "name": "stdout",
     "output_type": "stream",
     "text": [
      "              precision    recall  f1-score   support\n",
      "\n",
      "           0       0.78      0.57      0.66      4809\n",
      "           1       0.70      0.91      0.79      7062\n",
      "           2       0.42      0.02      0.03       898\n",
      "\n",
      "    accuracy                           0.72     12769\n",
      "   macro avg       0.63      0.50      0.49     12769\n",
      "weighted avg       0.71      0.72      0.69     12769\n",
      "\n"
     ]
    }
   ],
   "source": [
    "# Classification report showing all three classes, precision and recall\n",
    "print(classification_report(y_test, log_val_preds))"
   ]
  },
  {
   "cell_type": "code",
   "execution_count": 160,
   "metadata": {},
   "outputs": [
    {
     "name": "stdout",
     "output_type": "stream",
     "text": [
      "Confusion Matrix:\n",
      " [[2761 2040    8]\n",
      " [ 640 6411   11]\n",
      " [ 147  737   14]]\n"
     ]
    }
   ],
   "source": [
    "# Confusion matrix \n",
    "log_matrix = confusion_matrix(y_test, log_val_preds)\n",
    "print('Confusion Matrix:\\n', log_matrix)"
   ]
  },
  {
   "cell_type": "code",
   "execution_count": 161,
   "metadata": {},
   "outputs": [],
   "source": [
    "# Not the best model, but a good start"
   ]
  },
  {
   "cell_type": "markdown",
   "metadata": {},
   "source": [
    "### Forest Model"
   ]
  },
  {
   "cell_type": "code",
   "execution_count": 162,
   "metadata": {},
   "outputs": [
    {
     "name": "stdout",
     "output_type": "stream",
     "text": [
      "Forest Training Accuracy: 98.41%\n",
      "Forest Validation accuracy: 78.48%\n"
     ]
    }
   ],
   "source": [
    "# Forest Model\n",
    "# Models with criterion='gini' \n",
    "forest_clf = RandomForestClassifier()\n",
    "forest_model = forest_clf.fit(X_train, y_train)\n",
    "\n",
    "forest_training_preds = forest_clf.predict(X_train)\n",
    "forest_training_accuracy = accuracy_score(y_train, forest_training_preds)\n",
    "\n",
    "forest_val_preds = forest_clf.predict(X_test) # y_hat\n",
    "forest_val_accuracy = accuracy_score(y_test, forest_val_preds)\n",
    "\n",
    "print(\"Forest Training Accuracy: {:.4}%\".format(forest_training_accuracy * 100))\n",
    "print(\"Forest Validation accuracy: {:.4}%\".format(forest_val_accuracy * 100))"
   ]
  },
  {
   "cell_type": "code",
   "execution_count": 163,
   "metadata": {},
   "outputs": [
    {
     "name": "stdout",
     "output_type": "stream",
     "text": [
      "              precision    recall  f1-score   support\n",
      "\n",
      "           0       0.78      0.79      0.79      4809\n",
      "           1       0.81      0.84      0.83      7062\n",
      "           2       0.48      0.31      0.37       898\n",
      "\n",
      "    accuracy                           0.78     12769\n",
      "   macro avg       0.69      0.65      0.66     12769\n",
      "weighted avg       0.78      0.78      0.78     12769\n",
      "\n"
     ]
    }
   ],
   "source": [
    "# Classification report\n",
    "print(classification_report(y_test, forest_val_preds))"
   ]
  },
  {
   "cell_type": "code",
   "execution_count": 164,
   "metadata": {},
   "outputs": [
    {
     "name": "stdout",
     "output_type": "stream",
     "text": [
      "Confusion Matrix:\n",
      " [[3808  917   84]\n",
      " [ 905 5938  219]\n",
      " [ 150  473  275]]\n"
     ]
    }
   ],
   "source": [
    "# Confusion matrix \n",
    "forest_matrix = confusion_matrix(y_test, forest_val_preds)\n",
    "print('Confusion Matrix:\\n', forest_matrix)"
   ]
  },
  {
   "cell_type": "code",
   "execution_count": 165,
   "metadata": {},
   "outputs": [],
   "source": [
    "# Much better model in the training (perhaps over fitting a bit).\n",
    "# And better accuracy overall"
   ]
  },
  {
   "cell_type": "code",
   "execution_count": 166,
   "metadata": {},
   "outputs": [
    {
     "data": {
      "image/png": "[encoded data removed]",
      "text/plain": [
       "<Figure size 216x864 with 1 Axes>"
      ]
     },
     "metadata": {
      "needs_background": "light"
     },
     "output_type": "display_data"
    }
   ],
   "source": [
    "# A look at which features are important from the forest model\n",
    "def plot_feature_importances(model):\n",
    "    n_features = X_train.shape[1]\n",
    "    plt.figure(figsize=(3,12))\n",
    "    plt.barh(range(n_features), model.feature_importances_, align='center') \n",
    "    plt.yticks(np.arange(n_features), X_train.columns.values) \n",
    "    plt.xlabel('Feature importance')\n",
    "    plt.ylabel('Feature')\n",
    "\n",
    "plot_feature_importances(forest_clf)"
   ]
  },
  {
   "cell_type": "code",
   "execution_count": 167,
   "metadata": {},
   "outputs": [],
   "source": [
    "# The latitude and logitude come out on top - not as I would have expected.\n",
    "# Not sure what date and gps have to do with anything.\n",
    "# Population makes sense, as does waterpoint_type and insufficient"
   ]
  },
  {
   "cell_type": "markdown",
   "metadata": {},
   "source": [
    "## Forst Model with GridSearch"
   ]
  },
  {
   "cell_type": "code",
   "execution_count": 168,
   "metadata": {},
   "outputs": [],
   "source": [
    "# Forst Model with GridSearch parameters\n",
    "param_grid_2 = {\n",
    "    'max_depth': [5, 10, 50, None],\n",
    "    'min_samples_split': [2, 3],\n",
    "    'min_samples_leaf': [1, 2, 5],\n",
    "    'n_estimators': [10, 25, 100],\n",
    "}"
   ]
  },
  {
   "cell_type": "code",
   "execution_count": 169,
   "metadata": {},
   "outputs": [
    {
     "name": "stdout",
     "output_type": "stream",
     "text": [
      "Grid Search found the following optimal parameters: \n",
      "max_depth: None\n",
      "min_samples_leaf: 2\n",
      "min_samples_split: 3\n",
      "n_estimators: 100\n",
      "\n",
      "Training Accuracy: 90.95%\n",
      "Validation accuracy: 80.48%\n"
     ]
    }
   ],
   "source": [
    "# GridSearch Classifier\n",
    "# This time I'm going to try criterion='entropy'\n",
    "forest_clf = RandomForestClassifier(criterion='entropy')\n",
    "grid_clf = GridSearchCV(forest_clf, param_grid_2, scoring='accuracy', cv=None, n_jobs=1)\n",
    "grid_clf.fit(X_train, y_train)\n",
    "\n",
    "best_parameters = grid_clf.best_params_\n",
    "\n",
    "print(\"Grid Search found the following optimal parameters: \")\n",
    "for param_name in sorted(best_parameters.keys()):\n",
    "    print(\"%s: %r\" % (param_name, best_parameters[param_name]))\n",
    "\n",
    "training_preds_forest = grid_clf.predict(X_train)\n",
    "training_accuracy_forest = accuracy_score(y_train, training_preds_forest)\n",
    "\n",
    "val_preds_forest = grid_clf.predict(X_test)\n",
    "val_accuracy_forest = accuracy_score(y_test, val_preds_forest)\n",
    "\n",
    "print(\"\")\n",
    "print(\"Training Accuracy: {:.4}%\".format(training_accuracy_forest * 100))\n",
    "print(\"Validation accuracy: {:.4}%\".format(val_accuracy_forest * 100))"
   ]
  },
  {
   "cell_type": "code",
   "execution_count": 170,
   "metadata": {},
   "outputs": [
    {
     "name": "stdout",
     "output_type": "stream",
     "text": [
      "              precision    recall  f1-score   support\n",
      "\n",
      "           0       0.84      0.76      0.80      4809\n",
      "           1       0.80      0.90      0.85      7062\n",
      "           2       0.60      0.28      0.38       898\n",
      "\n",
      "    accuracy                           0.80     12769\n",
      "   macro avg       0.74      0.65      0.67     12769\n",
      "weighted avg       0.80      0.80      0.80     12769\n",
      "\n"
     ]
    }
   ],
   "source": [
    "# Classification report\n",
    "print(classification_report(y_test, val_preds_forest))"
   ]
  },
  {
   "cell_type": "code",
   "execution_count": 171,
   "metadata": {},
   "outputs": [
    {
     "name": "stdout",
     "output_type": "stream",
     "text": [
      "Confusion Matrix:\n",
      " [[3665 1098   46]\n",
      " [ 579 6361  122]\n",
      " [ 126  522  250]]\n"
     ]
    }
   ],
   "source": [
    "# Confusion matrix\n",
    "grid_forest_matrix = confusion_matrix(y_test, val_preds_forest)\n",
    "print('Confusion Matrix:\\n', grid_forest_matrix)"
   ]
  },
  {
   "cell_type": "code",
   "execution_count": 172,
   "metadata": {},
   "outputs": [],
   "source": [
    "# This is the best model so far."
   ]
  },
  {
   "cell_type": "markdown",
   "metadata": {},
   "source": [
    "### XGBoost"
   ]
  },
  {
   "cell_type": "code",
   "execution_count": 173,
   "metadata": {},
   "outputs": [
    {
     "name": "stdout",
     "output_type": "stream",
     "text": [
      "XGB Training Accuracy: 73.72%\n",
      "XGB Validation accuracy: 73.87%\n"
     ]
    }
   ],
   "source": [
    "# XGB classifier\n",
    "xgb_clf = xgb.XGBClassifier()\n",
    "xgb_clf.fit(X_train, y_train)\n",
    "\n",
    "xgb_training_preds = xgb_clf.predict(X_train)\n",
    "xgb_training_accuracy = accuracy_score(y_train, xgb_training_preds)\n",
    "\n",
    "xgb_val_preds = xgb_clf.predict(X_test)\n",
    "xgb_val_accuracy = accuracy_score(y_test, xgb_val_preds)\n",
    "\n",
    "print(\"XGB Training Accuracy: {:.4}%\".format(xgb_training_accuracy * 100))\n",
    "print(\"XGB Validation accuracy: {:.4}%\".format(xgb_val_accuracy * 100))"
   ]
  },
  {
   "cell_type": "code",
   "execution_count": 174,
   "metadata": {},
   "outputs": [
    {
     "name": "stdout",
     "output_type": "stream",
     "text": [
      "              precision    recall  f1-score   support\n",
      "\n",
      "           0       0.82      0.59      0.68      4809\n",
      "           1       0.71      0.93      0.80      7062\n",
      "           2       0.59      0.05      0.10       898\n",
      "\n",
      "    accuracy                           0.74     12769\n",
      "   macro avg       0.71      0.52      0.53     12769\n",
      "weighted avg       0.74      0.74      0.71     12769\n",
      "\n"
     ]
    }
   ],
   "source": [
    "# XGB classification report\n",
    "print(classification_report(y_test, xgb_val_preds))"
   ]
  },
  {
   "cell_type": "code",
   "execution_count": 175,
   "metadata": {},
   "outputs": [
    {
     "data": {
      "image/png": "[encoded data removed]",
      "text/plain": [
       "<Figure size 432x288 with 1 Axes>"
      ]
     },
     "metadata": {
      "needs_background": "light"
     },
     "output_type": "display_data"
    }
   ],
   "source": [
    "# XGB pretty confusion matrix\n",
    "xgb_matrix = confusion_matrix(y_test, xgb_val_preds)\n",
    "sns.heatmap(xgb_matrix.T, square=True, annot=True, fmt='d', cbar=False)\n",
    "plt.xlabel('actual label')\n",
    "plt.ylabel('predicted label');"
   ]
  },
  {
   "cell_type": "code",
   "execution_count": 176,
   "metadata": {},
   "outputs": [
    {
     "name": "stdout",
     "output_type": "stream",
     "text": [
      "Confusion Matrix:\n",
      " [[2814 1982   13]\n",
      " [ 471 6572   19]\n",
      " [ 135  716   47]]\n"
     ]
    }
   ],
   "source": [
    "# Regular confusion matrix - looks similar\n",
    "xgb_matrix = confusion_matrix(y_test, xgb_val_preds)\n",
    "print('Confusion Matrix:\\n', xgb_matrix)"
   ]
  },
  {
   "cell_type": "code",
   "execution_count": 177,
   "metadata": {},
   "outputs": [
    {
     "data": {
      "image/png": "[encoded data removed]",
      "text/plain": [
       "<Figure size 216x864 with 1 Axes>"
      ]
     },
     "metadata": {
      "needs_background": "light"
     },
     "output_type": "display_data"
    }
   ],
   "source": [
    "# xgb feature importance\n",
    "plot_feature_importances(xgb_clf)"
   ]
  },
  {
   "cell_type": "code",
   "execution_count": 178,
   "metadata": {},
   "outputs": [],
   "source": [
    "# Similar results in terms of performance and feature importance."
   ]
  },
  {
   "cell_type": "markdown",
   "metadata": {},
   "source": [
    "### GridSearch with XGBoost"
   ]
  },
  {
   "cell_type": "code",
   "execution_count": 179,
   "metadata": {},
   "outputs": [],
   "source": [
    "# XGBoost GridSearch parameters grid\n",
    "param_grid_1 = {\n",
    "    \"learning_rate\": [0.1],\n",
    "    'max_depth': [1, 5, 10],\n",
    "    'min_child_weight': [0, 1],\n",
    "    'subsample': [0, .1, .5],\n",
    "    'n_estimators': [0, 1, 10],\n",
    "}"
   ]
  },
  {
   "cell_type": "code",
   "execution_count": 180,
   "metadata": {},
   "outputs": [
    {
     "name": "stdout",
     "output_type": "stream",
     "text": [
      "Grid Search found the following optimal parameters: \n",
      "learning_rate: 0.1\n",
      "max_depth: 10\n",
      "min_child_weight: 0\n",
      "n_estimators: 10\n",
      "subsample: 0.5\n",
      "\n",
      "Training Accuracy: 80.69%\n",
      "Validation accuracy: 77.54%\n"
     ]
    }
   ],
   "source": [
    "# GridSearch Classifier with XGB\n",
    "grid_clf = GridSearchCV(xgb_clf, param_grid_1, scoring='accuracy', n_jobs=1)\n",
    "grid_clf.fit(X_train, y_train)\n",
    "\n",
    "best_parameters = grid_clf.best_params_\n",
    "\n",
    "print(\"Grid Search found the following optimal parameters: \")\n",
    "for param_name in sorted(best_parameters.keys()):\n",
    "    print(\"%s: %r\" % (param_name, best_parameters[param_name]))\n",
    "\n",
    "training_preds_xgb = grid_clf.predict(X_train)\n",
    "training_accuracy_xgb = accuracy_score(y_train, training_preds_xgb)\n",
    "val_preds_xgb = grid_clf.predict(X_test)\n",
    "val_accuracy_xgb = accuracy_score(y_test, val_preds_xgb)\n",
    "\n",
    "print(\"\")\n",
    "print(\"Training Accuracy: {:.4}%\".format(training_accuracy_xgb * 100))\n",
    "print(\"Validation accuracy: {:.4}%\".format(val_accuracy_xgb * 100))"
   ]
  },
  {
   "cell_type": "code",
   "execution_count": 181,
   "metadata": {},
   "outputs": [
    {
     "name": "stdout",
     "output_type": "stream",
     "text": [
      "              precision    recall  f1-score   support\n",
      "\n",
      "           0       0.86      0.65      0.74      4809\n",
      "           1       0.75      0.93      0.83      7062\n",
      "           2       0.65      0.18      0.28       898\n",
      "\n",
      "    accuracy                           0.78     12769\n",
      "   macro avg       0.75      0.59      0.62     12769\n",
      "weighted avg       0.78      0.78      0.76     12769\n",
      "\n"
     ]
    }
   ],
   "source": [
    "# Classification Report of XGBoost GridSearch\n",
    "print(classification_report(y_test, val_preds_xgb))"
   ]
  },
  {
   "cell_type": "code",
   "execution_count": 182,
   "metadata": {},
   "outputs": [
    {
     "name": "stdout",
     "output_type": "stream",
     "text": [
      "Confusion Matrix:\n",
      " [[3142 1640   27]\n",
      " [ 404 6601   57]\n",
      " [ 127  613  158]]\n"
     ]
    }
   ],
   "source": [
    "# Confusion Matrix of XGBoost GridSearch\n",
    "grid_xgb_matrix = confusion_matrix(y_test, val_preds_xgb)\n",
    "print('Confusion Matrix:\\n', grid_xgb_matrix)"
   ]
  },
  {
   "cell_type": "code",
   "execution_count": 183,
   "metadata": {},
   "outputs": [],
   "source": [
    "# Not much better than the auto-model."
   ]
  },
  {
   "cell_type": "markdown",
   "metadata": {},
   "source": [
    "## A Simpler Model"
   ]
  },
  {
   "cell_type": "code",
   "execution_count": 184,
   "metadata": {},
   "outputs": [],
   "source": [
    "# This is a basic model\n",
    "# I reload the target and values and merge into a new df\n",
    "# Then I delete missing values\n",
    "# Delete irrelevant features\n",
    "# And apply one-hot-encoding\n",
    "# Then I do the train/test split and run the forest model again"
   ]
  },
  {
   "cell_type": "code",
   "execution_count": 185,
   "metadata": {},
   "outputs": [],
   "source": [
    "target = pd.read_csv(\"train_set_labels.csv\")"
   ]
  },
  {
   "cell_type": "code",
   "execution_count": 186,
   "metadata": {},
   "outputs": [],
   "source": [
    "target = target.replace({'status_group': {'functional' : 1, \n",
    "                                'non functional' : 0, \n",
    "                                'functional needs repair' : 2}})"
   ]
  },
  {
   "cell_type": "code",
   "execution_count": 187,
   "metadata": {},
   "outputs": [],
   "source": [
    "values = pd.read_csv(\"train_set_values.csv\")"
   ]
  },
  {
   "cell_type": "code",
   "execution_count": 188,
   "metadata": {},
   "outputs": [],
   "source": [
    "df = pd.concat([values, target], axis=1)"
   ]
  },
  {
   "cell_type": "code",
   "execution_count": 189,
   "metadata": {},
   "outputs": [],
   "source": [
    "new_df = pd.concat([values, target], axis=1)"
   ]
  },
  {
   "cell_type": "code",
   "execution_count": 190,
   "metadata": {},
   "outputs": [],
   "source": [
    "new_df = df.dropna(axis = 0)"
   ]
  },
  {
   "cell_type": "code",
   "execution_count": 191,
   "metadata": {},
   "outputs": [
    {
     "name": "stdout",
     "output_type": "stream",
     "text": [
      "Old data frame length: 59400 \n",
      "New data frame length: 27813 \n",
      "Number of rows with at least 1 NA value:  31587\n"
     ]
    }
   ],
   "source": [
    "print(\"Old data frame length:\", len(df), \"\\nNew data frame length:\",  \n",
    "       len(new_df), \"\\nNumber of rows with at least 1 NA value: \", \n",
    "       (len(df)-len(new_df)))"
   ]
  },
  {
   "cell_type": "code",
   "execution_count": 192,
   "metadata": {},
   "outputs": [],
   "source": [
    "col_to_delete = ['id','date_recorded', 'recorded_by', 'funder', 'installer',  \n",
    "                'lga', 'ward', 'region', 'scheme_management', 'wpt_name',\n",
    "                'scheme_name', 'extraction_type', 'extraction_type_group',\n",
    "                'management', 'payment_type', 'quality_group', 'source_type',\n",
    "                'source', 'waterpoint_type_group', 'quantity_group', 'subvillage']\n",
    "new_df = new_df.drop(col_to_delete, axis=1)"
   ]
  },
  {
   "cell_type": "code",
   "execution_count": 193,
   "metadata": {},
   "outputs": [],
   "source": [
    "new_df = pd.get_dummies(new_df, drop_first=True)"
   ]
  },
  {
   "cell_type": "code",
   "execution_count": 194,
   "metadata": {},
   "outputs": [],
   "source": [
    "y2 = new_df.status_group"
   ]
  },
  {
   "cell_type": "code",
   "execution_count": 195,
   "metadata": {},
   "outputs": [],
   "source": [
    "X2 = new_df.drop('status_group', axis=1)"
   ]
  },
  {
   "cell_type": "code",
   "execution_count": 196,
   "metadata": {},
   "outputs": [],
   "source": [
    "X_train, X_test, y_train, y_test = train_test_split(X2, y2, test_size=0.25, \n",
    "                                                    random_state=123)"
   ]
  },
  {
   "cell_type": "code",
   "execution_count": 197,
   "metadata": {},
   "outputs": [],
   "source": [
    "# After resplitting the train/test, I run a Random Forest model"
   ]
  },
  {
   "cell_type": "code",
   "execution_count": 198,
   "metadata": {},
   "outputs": [
    {
     "name": "stdout",
     "output_type": "stream",
     "text": [
      "Forest Training Accuracy: 98.54%\n",
      "Forest Validation Accuracy: 81.62%\n"
     ]
    }
   ],
   "source": [
    "# Forest Model\n",
    "forest_clf2 = RandomForestClassifier(criterion = 'entropy')\n",
    "forest_model2 = forest_clf2.fit(X_train, y_train)\n",
    "\n",
    "forest_training_preds2 = forest_clf2.predict(X_train)\n",
    "forest_training_accuracy2 = accuracy_score(y_train, forest_training_preds2)\n",
    "\n",
    "forest_val_preds2 = forest_clf2.predict(X_test) #y_hat\n",
    "forest_val_accuracy2 = accuracy_score(y_test, forest_val_preds2)\n",
    "\n",
    "print(\"Forest Training Accuracy: {:.4}%\".format(forest_training_accuracy2 * 100))\n",
    "print(\"Forest Validation Accuracy: {:.4}%\".format(forest_val_accuracy2 * 100))"
   ]
  },
  {
   "cell_type": "code",
   "execution_count": 199,
   "metadata": {},
   "outputs": [],
   "source": [
    "# The accuracy is the highest of all!"
   ]
  },
  {
   "cell_type": "code",
   "execution_count": 200,
   "metadata": {},
   "outputs": [
    {
     "name": "stdout",
     "output_type": "stream",
     "text": [
      "              precision    recall  f1-score   support\n",
      "\n",
      "           0       0.80      0.81      0.81      2432\n",
      "           1       0.85      0.87      0.86      4059\n",
      "           2       0.49      0.33      0.40       463\n",
      "\n",
      "    accuracy                           0.82      6954\n",
      "   macro avg       0.71      0.67      0.69      6954\n",
      "weighted avg       0.81      0.82      0.81      6954\n",
      "\n"
     ]
    }
   ],
   "source": [
    "print(classification_report(y_test, forest_val_preds2))"
   ]
  },
  {
   "cell_type": "code",
   "execution_count": 201,
   "metadata": {},
   "outputs": [
    {
     "name": "stdout",
     "output_type": "stream",
     "text": [
      "Confusion Matrix:\n",
      " [[1975  417   40]\n",
      " [ 392 3547  120]\n",
      " [  89  220  154]]\n"
     ]
    }
   ],
   "source": [
    "new_forest_matrix = confusion_matrix(y_test, forest_val_preds2)\n",
    "print('Confusion Matrix:\\n', new_forest_matrix)"
   ]
  },
  {
   "cell_type": "code",
   "execution_count": 202,
   "metadata": {},
   "outputs": [
    {
     "data": {
      "image/png": "[encoded data removed]",
      "text/plain": [
       "<Figure size 216x864 with 1 Axes>"
      ]
     },
     "metadata": {
      "needs_background": "light"
     },
     "output_type": "display_data"
    }
   ],
   "source": [
    "# new forest feature importance\n",
    "plot_feature_importances(forest_model2)"
   ]
  },
  {
   "cell_type": "code",
   "execution_count": 203,
   "metadata": {},
   "outputs": [
    {
     "name": "stdout",
     "output_type": "stream",
     "text": [
      "XGB Training Accuracy: 85.32%\n",
      "XGB Validation accuracy: 81.03%\n"
     ]
    }
   ],
   "source": [
    "# XGB classifier again\n",
    "xgb_clf2 = xgb.XGBClassifier(learning_rate = 0.1,\n",
    "                            max_depth = 10,\n",
    "                            min_child_weight = 0,\n",
    "                            n_estimators = 10,\n",
    "                            subsample = 0.5)\n",
    "xgb_clf2.fit(X_train, y_train)\n",
    "\n",
    "xgb_training_preds2 = xgb_clf2.predict(X_train)\n",
    "xgb_training_accuracy2 = accuracy_score(y_train, xgb_training_preds2)\n",
    "\n",
    "xgb_val_preds2 = xgb_clf2.predict(X_test)\n",
    "xgb_val_accuracy2 = accuracy_score(y_test, xgb_val_preds2)\n",
    "\n",
    "print(\"XGB Training Accuracy: {:.4}%\".format(xgb_training_accuracy2 * 100))\n",
    "print(\"XGB Validation accuracy: {:.4}%\".format(xgb_val_accuracy2 * 100))"
   ]
  },
  {
   "cell_type": "code",
   "execution_count": 204,
   "metadata": {},
   "outputs": [
    {
     "name": "stdout",
     "output_type": "stream",
     "text": [
      "              precision    recall  f1-score   support\n",
      "\n",
      "           0       0.83      0.73      0.78      2432\n",
      "           1       0.81      0.92      0.86      4059\n",
      "           2       0.65      0.25      0.36       463\n",
      "\n",
      "    accuracy                           0.81      6954\n",
      "   macro avg       0.76      0.63      0.67      6954\n",
      "weighted avg       0.81      0.81      0.80      6954\n",
      "\n"
     ]
    }
   ],
   "source": [
    "# XGB classification report again\n",
    "print(classification_report(y_test, xgb_val_preds2))"
   ]
  },
  {
   "cell_type": "code",
   "execution_count": 205,
   "metadata": {},
   "outputs": [],
   "source": [
    "# Another good model but the Random Forest seemed better."
   ]
  },
  {
   "cell_type": "markdown",
   "metadata": {},
   "source": [
    "# Summary"
   ]
  },
  {
   "cell_type": "markdown",
   "metadata": {},
   "source": [
    "The best overall model was the simple Random Forest with criterion='entropy' and all rows with missing values deleted. This model was able to predict water-points with 0.8144 accuracy and had similar values for precision and recall.\n",
    "\n",
    "GridSearch was able to improve my basic XGBBoost model to 0.8103 along with extensive cleaning of the data. The large percentage of categorical data columns, at least a third of which were repetitive or overlapping, made it difficult to sort through and decide on features that were most relevant. As well, the multiple continuous features that contained either a high percentage of zeros or more missing data made many of these features also unusable or irrelevant.\n",
    "\n",
    "While it might be a waste of time and resources to visit a possibly non-functioning water-point only to find that it was in fact still working - I believe it is better to error on the side of having too many false positives as opposed to letting people go without a safe drinking water source. \n"
   ]
  },
  {
   "cell_type": "markdown",
   "metadata": {},
   "source": [
    "## Conclusions"
   ]
  },
  {
   "cell_type": "markdown",
   "metadata": {},
   "source": [
    "My research found that payment types of 'monthly', 'annually', and 'per bucket' were the most efficient - which makes sense compared to 'free' or 'unknown' potable water! Obviously, waterpoints with a payment system were less likely to need repair.\n",
    "\n",
    "'Hand-pumps' and 'standpipes' were the most likely extraction types to remain functional. Therefore, the replacement of any of the broken or non-functioning wells should be converted to a more durable and dependable source if possible.\n",
    "\n",
    "All models seem to point toward location as a highly valuable aspect of determining water-point status. While certain 'Water Basins' were more likely to have a higher percentage of either non-functioning water sources or water-points in need of repair, there is evidence that this could also be based on the regions' climate, amount of rainfall, population, and economic development."
   ]
  },
  {
   "cell_type": "markdown",
   "metadata": {},
   "source": [
    "## Future work"
   ]
  },
  {
   "cell_type": "markdown",
   "metadata": {},
   "source": [
    "As a way to increase the accuracy of supervised learning models, I would like to see better information on number of people who are using pumps on a daily or weekly basis and number of visits per given period.\n",
    "\n",
    "Though my highest recommendation for future work would be to focus on the quality and cleanliness of water - as this is certainly one of the most important functions to a healthy community. \n",
    "\n",
    "Any data that points to when a water-point was last serviced or replaced as well as a list of issues (i.e. broken handle, no water, power outages) would be beneficial to future models. \n",
    "\n",
    "A more regulated collection of information and more precise entry of specific data is needed (water-point age, certain types, number of people using, etc.) in addition to a more standard set of options - such that location, payment, and source could be standardized, thus eliminating much of the missing data.\n",
    "\n",
    "It might also be helpful to know how to measure the amount of water that is available - the 'amount_tsh' feature seems like it could be very useful but this information would need to be clearly measured as well as the method specifically described in detail. \n",
    "\n",
    "\n"
   ]
  },
  {
   "cell_type": "code",
   "execution_count": null,
   "metadata": {},
   "outputs": [],
   "source": []
  }
 ],
 "metadata": {
  "kernelspec": {
   "display_name": "learn-env",
   "language": "python",
   "name": "learn-env"
  },
  "language_info": {
   "codemirror_mode": {
    "name": "ipython",
    "version": 3
   },
   "file_extension": ".py",
   "mimetype": "text/x-python",
   "name": "python",
   "nbconvert_exporter": "python",
   "pygments_lexer": "ipython3",
   "version": "3.6.6"
  },
  "toc": {
   "base_numbering": 1,
   "nav_menu": {},
   "number_sections": true,
   "sideBar": true,
   "skip_h1_title": false,
   "title_cell": "Table of Contents",
   "title_sidebar": "Contents",
   "toc_cell": false,
   "toc_position": {},
   "toc_section_display": true,
   "toc_window_display": true
  }
 },
 "nbformat": 4,
 "nbformat_minor": 2
}
